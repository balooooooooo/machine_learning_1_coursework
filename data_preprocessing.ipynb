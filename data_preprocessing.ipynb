{
 "cells": [
  {
   "cell_type": "code",
   "execution_count": 15,
   "metadata": {
    "collapsed": true,
    "ExecuteTime": {
     "start_time": "2023-04-07T21:47:38.733162Z",
     "end_time": "2023-04-07T21:47:38.943716Z"
    }
   },
   "outputs": [
    {
     "data": {
      "text/plain": "   ID gender  age  height(cm)  weight(kg)  waist(cm)  eyesight(left)   \n0   0      F   40         155          60       81.3             1.2  \\\n1   1      F   40         160          60       81.0             0.8   \n2   2      M   55         170          60       80.0             0.8   \n3   3      M   40         165          70       88.0             1.5   \n4   4      F   40         155          60       86.0             1.0   \n\n   eyesight(right)  hearing(left)  hearing(right)  ...  hemoglobin   \n0              1.0            1.0             1.0  ...        12.9  \\\n1              0.6            1.0             1.0  ...        12.7   \n2              0.8            1.0             1.0  ...        15.8   \n3              1.5            1.0             1.0  ...        14.7   \n4              1.0            1.0             1.0  ...        12.5   \n\n   Urine protein  serum creatinine   AST   ALT   Gtp  oral  dental caries   \n0            1.0               0.7  18.0  19.0  27.0     Y              0  \\\n1            1.0               0.6  22.0  19.0  18.0     Y              0   \n2            1.0               1.0  21.0  16.0  22.0     Y              0   \n3            1.0               1.0  19.0  26.0  18.0     Y              0   \n4            1.0               0.6  16.0  14.0  22.0     Y              0   \n\n   tartar  smoking  \n0       Y        0  \n1       Y        0  \n2       N        1  \n3       Y        0  \n4       N        0  \n\n[5 rows x 27 columns]",
      "text/html": "<div>\n<style scoped>\n    .dataframe tbody tr th:only-of-type {\n        vertical-align: middle;\n    }\n\n    .dataframe tbody tr th {\n        vertical-align: top;\n    }\n\n    .dataframe thead th {\n        text-align: right;\n    }\n</style>\n<table border=\"1\" class=\"dataframe\">\n  <thead>\n    <tr style=\"text-align: right;\">\n      <th></th>\n      <th>ID</th>\n      <th>gender</th>\n      <th>age</th>\n      <th>height(cm)</th>\n      <th>weight(kg)</th>\n      <th>waist(cm)</th>\n      <th>eyesight(left)</th>\n      <th>eyesight(right)</th>\n      <th>hearing(left)</th>\n      <th>hearing(right)</th>\n      <th>...</th>\n      <th>hemoglobin</th>\n      <th>Urine protein</th>\n      <th>serum creatinine</th>\n      <th>AST</th>\n      <th>ALT</th>\n      <th>Gtp</th>\n      <th>oral</th>\n      <th>dental caries</th>\n      <th>tartar</th>\n      <th>smoking</th>\n    </tr>\n  </thead>\n  <tbody>\n    <tr>\n      <th>0</th>\n      <td>0</td>\n      <td>F</td>\n      <td>40</td>\n      <td>155</td>\n      <td>60</td>\n      <td>81.3</td>\n      <td>1.2</td>\n      <td>1.0</td>\n      <td>1.0</td>\n      <td>1.0</td>\n      <td>...</td>\n      <td>12.9</td>\n      <td>1.0</td>\n      <td>0.7</td>\n      <td>18.0</td>\n      <td>19.0</td>\n      <td>27.0</td>\n      <td>Y</td>\n      <td>0</td>\n      <td>Y</td>\n      <td>0</td>\n    </tr>\n    <tr>\n      <th>1</th>\n      <td>1</td>\n      <td>F</td>\n      <td>40</td>\n      <td>160</td>\n      <td>60</td>\n      <td>81.0</td>\n      <td>0.8</td>\n      <td>0.6</td>\n      <td>1.0</td>\n      <td>1.0</td>\n      <td>...</td>\n      <td>12.7</td>\n      <td>1.0</td>\n      <td>0.6</td>\n      <td>22.0</td>\n      <td>19.0</td>\n      <td>18.0</td>\n      <td>Y</td>\n      <td>0</td>\n      <td>Y</td>\n      <td>0</td>\n    </tr>\n    <tr>\n      <th>2</th>\n      <td>2</td>\n      <td>M</td>\n      <td>55</td>\n      <td>170</td>\n      <td>60</td>\n      <td>80.0</td>\n      <td>0.8</td>\n      <td>0.8</td>\n      <td>1.0</td>\n      <td>1.0</td>\n      <td>...</td>\n      <td>15.8</td>\n      <td>1.0</td>\n      <td>1.0</td>\n      <td>21.0</td>\n      <td>16.0</td>\n      <td>22.0</td>\n      <td>Y</td>\n      <td>0</td>\n      <td>N</td>\n      <td>1</td>\n    </tr>\n    <tr>\n      <th>3</th>\n      <td>3</td>\n      <td>M</td>\n      <td>40</td>\n      <td>165</td>\n      <td>70</td>\n      <td>88.0</td>\n      <td>1.5</td>\n      <td>1.5</td>\n      <td>1.0</td>\n      <td>1.0</td>\n      <td>...</td>\n      <td>14.7</td>\n      <td>1.0</td>\n      <td>1.0</td>\n      <td>19.0</td>\n      <td>26.0</td>\n      <td>18.0</td>\n      <td>Y</td>\n      <td>0</td>\n      <td>Y</td>\n      <td>0</td>\n    </tr>\n    <tr>\n      <th>4</th>\n      <td>4</td>\n      <td>F</td>\n      <td>40</td>\n      <td>155</td>\n      <td>60</td>\n      <td>86.0</td>\n      <td>1.0</td>\n      <td>1.0</td>\n      <td>1.0</td>\n      <td>1.0</td>\n      <td>...</td>\n      <td>12.5</td>\n      <td>1.0</td>\n      <td>0.6</td>\n      <td>16.0</td>\n      <td>14.0</td>\n      <td>22.0</td>\n      <td>Y</td>\n      <td>0</td>\n      <td>N</td>\n      <td>0</td>\n    </tr>\n  </tbody>\n</table>\n<p>5 rows × 27 columns</p>\n</div>"
     },
     "execution_count": 15,
     "metadata": {},
     "output_type": "execute_result"
    }
   ],
   "source": [
    "import pandas as pd\n",
    "smoking_data = pd.read_csv(\"data/smoking.csv\")\n",
    "smoking_data.head(5)"
   ]
  },
  {
   "cell_type": "code",
   "execution_count": 23,
   "outputs": [
    {
     "data": {
      "text/plain": "  gender  age  height(cm)  weight(kg)  waist(cm)  eyesight(left)   \n0      F   40         155          60       81.3             1.2  \\\n1      F   40         160          60       81.0             0.8   \n2      M   55         170          60       80.0             0.8   \n3      M   40         165          70       88.0             1.5   \n4      F   40         155          60       86.0             1.0   \n\n   eyesight(right)  hearing(left)  hearing(right)  systolic  ...    LDL   \n0              1.0            1.0             1.0     114.0  ...  126.0  \\\n1              0.6            1.0             1.0     119.0  ...  127.0   \n2              0.8            1.0             1.0     138.0  ...  151.0   \n3              1.5            1.0             1.0     100.0  ...  226.0   \n4              1.0            1.0             1.0     120.0  ...  107.0   \n\n   hemoglobin  Urine protein  serum creatinine   AST   ALT   Gtp   \n0        12.9            1.0               0.7  18.0  19.0  27.0  \\\n1        12.7            1.0               0.6  22.0  19.0  18.0   \n2        15.8            1.0               1.0  21.0  16.0  22.0   \n3        14.7            1.0               1.0  19.0  26.0  18.0   \n4        12.5            1.0               0.6  16.0  14.0  22.0   \n\n   dental caries  tartar  smoking  \n0              0       1        0  \n1              0       1        0  \n2              0       0        1  \n3              0       1        0  \n4              0       0        0  \n\n[5 rows x 25 columns]",
      "text/html": "<div>\n<style scoped>\n    .dataframe tbody tr th:only-of-type {\n        vertical-align: middle;\n    }\n\n    .dataframe tbody tr th {\n        vertical-align: top;\n    }\n\n    .dataframe thead th {\n        text-align: right;\n    }\n</style>\n<table border=\"1\" class=\"dataframe\">\n  <thead>\n    <tr style=\"text-align: right;\">\n      <th></th>\n      <th>gender</th>\n      <th>age</th>\n      <th>height(cm)</th>\n      <th>weight(kg)</th>\n      <th>waist(cm)</th>\n      <th>eyesight(left)</th>\n      <th>eyesight(right)</th>\n      <th>hearing(left)</th>\n      <th>hearing(right)</th>\n      <th>systolic</th>\n      <th>...</th>\n      <th>LDL</th>\n      <th>hemoglobin</th>\n      <th>Urine protein</th>\n      <th>serum creatinine</th>\n      <th>AST</th>\n      <th>ALT</th>\n      <th>Gtp</th>\n      <th>dental caries</th>\n      <th>tartar</th>\n      <th>smoking</th>\n    </tr>\n  </thead>\n  <tbody>\n    <tr>\n      <th>0</th>\n      <td>F</td>\n      <td>40</td>\n      <td>155</td>\n      <td>60</td>\n      <td>81.3</td>\n      <td>1.2</td>\n      <td>1.0</td>\n      <td>1.0</td>\n      <td>1.0</td>\n      <td>114.0</td>\n      <td>...</td>\n      <td>126.0</td>\n      <td>12.9</td>\n      <td>1.0</td>\n      <td>0.7</td>\n      <td>18.0</td>\n      <td>19.0</td>\n      <td>27.0</td>\n      <td>0</td>\n      <td>1</td>\n      <td>0</td>\n    </tr>\n    <tr>\n      <th>1</th>\n      <td>F</td>\n      <td>40</td>\n      <td>160</td>\n      <td>60</td>\n      <td>81.0</td>\n      <td>0.8</td>\n      <td>0.6</td>\n      <td>1.0</td>\n      <td>1.0</td>\n      <td>119.0</td>\n      <td>...</td>\n      <td>127.0</td>\n      <td>12.7</td>\n      <td>1.0</td>\n      <td>0.6</td>\n      <td>22.0</td>\n      <td>19.0</td>\n      <td>18.0</td>\n      <td>0</td>\n      <td>1</td>\n      <td>0</td>\n    </tr>\n    <tr>\n      <th>2</th>\n      <td>M</td>\n      <td>55</td>\n      <td>170</td>\n      <td>60</td>\n      <td>80.0</td>\n      <td>0.8</td>\n      <td>0.8</td>\n      <td>1.0</td>\n      <td>1.0</td>\n      <td>138.0</td>\n      <td>...</td>\n      <td>151.0</td>\n      <td>15.8</td>\n      <td>1.0</td>\n      <td>1.0</td>\n      <td>21.0</td>\n      <td>16.0</td>\n      <td>22.0</td>\n      <td>0</td>\n      <td>0</td>\n      <td>1</td>\n    </tr>\n    <tr>\n      <th>3</th>\n      <td>M</td>\n      <td>40</td>\n      <td>165</td>\n      <td>70</td>\n      <td>88.0</td>\n      <td>1.5</td>\n      <td>1.5</td>\n      <td>1.0</td>\n      <td>1.0</td>\n      <td>100.0</td>\n      <td>...</td>\n      <td>226.0</td>\n      <td>14.7</td>\n      <td>1.0</td>\n      <td>1.0</td>\n      <td>19.0</td>\n      <td>26.0</td>\n      <td>18.0</td>\n      <td>0</td>\n      <td>1</td>\n      <td>0</td>\n    </tr>\n    <tr>\n      <th>4</th>\n      <td>F</td>\n      <td>40</td>\n      <td>155</td>\n      <td>60</td>\n      <td>86.0</td>\n      <td>1.0</td>\n      <td>1.0</td>\n      <td>1.0</td>\n      <td>1.0</td>\n      <td>120.0</td>\n      <td>...</td>\n      <td>107.0</td>\n      <td>12.5</td>\n      <td>1.0</td>\n      <td>0.6</td>\n      <td>16.0</td>\n      <td>14.0</td>\n      <td>22.0</td>\n      <td>0</td>\n      <td>0</td>\n      <td>0</td>\n    </tr>\n  </tbody>\n</table>\n<p>5 rows × 25 columns</p>\n</div>"
     },
     "execution_count": 23,
     "metadata": {},
     "output_type": "execute_result"
    }
   ],
   "source": [
    "smoking_data = smoking_data.drop([\"ID\",\"oral\"], axis = 1)\n",
    "smoking_data[\"tartar\"] = smoking_data[\"tartar\"].replace([\"Y\",\"N\"],[1,0])\n",
    "smoking_data.head(5)"
   ],
   "metadata": {
    "collapsed": false,
    "ExecuteTime": {
     "start_time": "2023-04-07T21:49:43.373220Z",
     "end_time": "2023-04-07T21:49:43.419703Z"
    }
   }
  },
  {
   "cell_type": "markdown",
   "source": [],
   "metadata": {
    "collapsed": false
   }
  }
 ],
 "metadata": {
  "kernelspec": {
   "display_name": "Python 3",
   "language": "python",
   "name": "python3"
  },
  "language_info": {
   "codemirror_mode": {
    "name": "ipython",
    "version": 2
   },
   "file_extension": ".py",
   "mimetype": "text/x-python",
   "name": "python",
   "nbconvert_exporter": "python",
   "pygments_lexer": "ipython2",
   "version": "2.7.6"
  }
 },
 "nbformat": 4,
 "nbformat_minor": 0
}
