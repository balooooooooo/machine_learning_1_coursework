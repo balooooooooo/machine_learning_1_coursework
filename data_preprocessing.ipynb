{
 "cells": [
  {
   "cell_type": "markdown",
   "source": [
    "# Preprocessing of smoking.csv dataset"
   ],
   "metadata": {
    "collapsed": false
   }
  },
  {
   "cell_type": "code",
   "execution_count": 2,
   "metadata": {
    "collapsed": true,
    "ExecuteTime": {
     "start_time": "2023-04-12T14:45:36.985337Z",
     "end_time": "2023-04-12T14:45:37.165856Z"
    }
   },
   "outputs": [
    {
     "data": {
      "text/plain": "   ID gender  age  height(cm)  weight(kg)  waist(cm)  eyesight(left)   \n0   0      F   40         155          60       81.3             1.2  \\\n1   1      F   40         160          60       81.0             0.8   \n2   2      M   55         170          60       80.0             0.8   \n3   3      M   40         165          70       88.0             1.5   \n4   4      F   40         155          60       86.0             1.0   \n\n   eyesight(right)  hearing(left)  hearing(right)  ...  hemoglobin   \n0              1.0            1.0             1.0  ...        12.9  \\\n1              0.6            1.0             1.0  ...        12.7   \n2              0.8            1.0             1.0  ...        15.8   \n3              1.5            1.0             1.0  ...        14.7   \n4              1.0            1.0             1.0  ...        12.5   \n\n   Urine protein  serum creatinine   AST   ALT   Gtp  oral  dental caries   \n0            1.0               0.7  18.0  19.0  27.0     Y              0  \\\n1            1.0               0.6  22.0  19.0  18.0     Y              0   \n2            1.0               1.0  21.0  16.0  22.0     Y              0   \n3            1.0               1.0  19.0  26.0  18.0     Y              0   \n4            1.0               0.6  16.0  14.0  22.0     Y              0   \n\n   tartar  smoking  \n0       Y        0  \n1       Y        0  \n2       N        1  \n3       Y        0  \n4       N        0  \n\n[5 rows x 27 columns]",
      "text/html": "<div>\n<style scoped>\n    .dataframe tbody tr th:only-of-type {\n        vertical-align: middle;\n    }\n\n    .dataframe tbody tr th {\n        vertical-align: top;\n    }\n\n    .dataframe thead th {\n        text-align: right;\n    }\n</style>\n<table border=\"1\" class=\"dataframe\">\n  <thead>\n    <tr style=\"text-align: right;\">\n      <th></th>\n      <th>ID</th>\n      <th>gender</th>\n      <th>age</th>\n      <th>height(cm)</th>\n      <th>weight(kg)</th>\n      <th>waist(cm)</th>\n      <th>eyesight(left)</th>\n      <th>eyesight(right)</th>\n      <th>hearing(left)</th>\n      <th>hearing(right)</th>\n      <th>...</th>\n      <th>hemoglobin</th>\n      <th>Urine protein</th>\n      <th>serum creatinine</th>\n      <th>AST</th>\n      <th>ALT</th>\n      <th>Gtp</th>\n      <th>oral</th>\n      <th>dental caries</th>\n      <th>tartar</th>\n      <th>smoking</th>\n    </tr>\n  </thead>\n  <tbody>\n    <tr>\n      <th>0</th>\n      <td>0</td>\n      <td>F</td>\n      <td>40</td>\n      <td>155</td>\n      <td>60</td>\n      <td>81.3</td>\n      <td>1.2</td>\n      <td>1.0</td>\n      <td>1.0</td>\n      <td>1.0</td>\n      <td>...</td>\n      <td>12.9</td>\n      <td>1.0</td>\n      <td>0.7</td>\n      <td>18.0</td>\n      <td>19.0</td>\n      <td>27.0</td>\n      <td>Y</td>\n      <td>0</td>\n      <td>Y</td>\n      <td>0</td>\n    </tr>\n    <tr>\n      <th>1</th>\n      <td>1</td>\n      <td>F</td>\n      <td>40</td>\n      <td>160</td>\n      <td>60</td>\n      <td>81.0</td>\n      <td>0.8</td>\n      <td>0.6</td>\n      <td>1.0</td>\n      <td>1.0</td>\n      <td>...</td>\n      <td>12.7</td>\n      <td>1.0</td>\n      <td>0.6</td>\n      <td>22.0</td>\n      <td>19.0</td>\n      <td>18.0</td>\n      <td>Y</td>\n      <td>0</td>\n      <td>Y</td>\n      <td>0</td>\n    </tr>\n    <tr>\n      <th>2</th>\n      <td>2</td>\n      <td>M</td>\n      <td>55</td>\n      <td>170</td>\n      <td>60</td>\n      <td>80.0</td>\n      <td>0.8</td>\n      <td>0.8</td>\n      <td>1.0</td>\n      <td>1.0</td>\n      <td>...</td>\n      <td>15.8</td>\n      <td>1.0</td>\n      <td>1.0</td>\n      <td>21.0</td>\n      <td>16.0</td>\n      <td>22.0</td>\n      <td>Y</td>\n      <td>0</td>\n      <td>N</td>\n      <td>1</td>\n    </tr>\n    <tr>\n      <th>3</th>\n      <td>3</td>\n      <td>M</td>\n      <td>40</td>\n      <td>165</td>\n      <td>70</td>\n      <td>88.0</td>\n      <td>1.5</td>\n      <td>1.5</td>\n      <td>1.0</td>\n      <td>1.0</td>\n      <td>...</td>\n      <td>14.7</td>\n      <td>1.0</td>\n      <td>1.0</td>\n      <td>19.0</td>\n      <td>26.0</td>\n      <td>18.0</td>\n      <td>Y</td>\n      <td>0</td>\n      <td>Y</td>\n      <td>0</td>\n    </tr>\n    <tr>\n      <th>4</th>\n      <td>4</td>\n      <td>F</td>\n      <td>40</td>\n      <td>155</td>\n      <td>60</td>\n      <td>86.0</td>\n      <td>1.0</td>\n      <td>1.0</td>\n      <td>1.0</td>\n      <td>1.0</td>\n      <td>...</td>\n      <td>12.5</td>\n      <td>1.0</td>\n      <td>0.6</td>\n      <td>16.0</td>\n      <td>14.0</td>\n      <td>22.0</td>\n      <td>Y</td>\n      <td>0</td>\n      <td>N</td>\n      <td>0</td>\n    </tr>\n  </tbody>\n</table>\n<p>5 rows × 27 columns</p>\n</div>"
     },
     "execution_count": 2,
     "metadata": {},
     "output_type": "execute_result"
    }
   ],
   "source": [
    "import pandas as pd\n",
    "import matplotlib.pyplot as plt\n",
    "import seaborn as sns\n",
    "import numpy as np\n",
    "smoking_data = pd.read_csv(\"data/smoking.csv\")\n",
    "smoking_data.head(5)"
   ]
  },
  {
   "cell_type": "markdown",
   "source": [
    "### We can see that we have no missing values, therefore it is not needed to account for them\n"
   ],
   "metadata": {
    "collapsed": false
   }
  },
  {
   "cell_type": "code",
   "execution_count": 3,
   "outputs": [
    {
     "data": {
      "text/plain": "ID                     0\ngender                 0\nage                    0\nheight(cm)             0\nweight(kg)             0\nwaist(cm)              0\neyesight(left)         0\neyesight(right)        0\nhearing(left)          0\nhearing(right)         0\nsystolic               0\nrelaxation             0\nfasting blood sugar    0\nCholesterol            0\ntriglyceride           0\nHDL                    0\nLDL                    0\nhemoglobin             0\nUrine protein          0\nserum creatinine       0\nAST                    0\nALT                    0\nGtp                    0\noral                   0\ndental caries          0\ntartar                 0\nsmoking                0\ndtype: int64"
     },
     "execution_count": 3,
     "metadata": {},
     "output_type": "execute_result"
    }
   ],
   "source": [
    "smoking_data.isnull().sum()"
   ],
   "metadata": {
    "collapsed": false,
    "ExecuteTime": {
     "start_time": "2023-04-12T14:45:37.161866Z",
     "end_time": "2023-04-12T14:45:37.236665Z"
    }
   }
  },
  {
   "cell_type": "markdown",
   "source": [
    "### We can see that columns gender, oral and tartar are not represented by a number, but rather by characters"
   ],
   "metadata": {
    "collapsed": false
   }
  },
  {
   "cell_type": "code",
   "execution_count": 4,
   "outputs": [
    {
     "name": "stdout",
     "output_type": "stream",
     "text": [
      "<class 'pandas.core.frame.DataFrame'>\n",
      "RangeIndex: 55692 entries, 0 to 55691\n",
      "Data columns (total 27 columns):\n",
      " #   Column               Non-Null Count  Dtype  \n",
      "---  ------               --------------  -----  \n",
      " 0   ID                   55692 non-null  int64  \n",
      " 1   gender               55692 non-null  object \n",
      " 2   age                  55692 non-null  int64  \n",
      " 3   height(cm)           55692 non-null  int64  \n",
      " 4   weight(kg)           55692 non-null  int64  \n",
      " 5   waist(cm)            55692 non-null  float64\n",
      " 6   eyesight(left)       55692 non-null  float64\n",
      " 7   eyesight(right)      55692 non-null  float64\n",
      " 8   hearing(left)        55692 non-null  float64\n",
      " 9   hearing(right)       55692 non-null  float64\n",
      " 10  systolic             55692 non-null  float64\n",
      " 11  relaxation           55692 non-null  float64\n",
      " 12  fasting blood sugar  55692 non-null  float64\n",
      " 13  Cholesterol          55692 non-null  float64\n",
      " 14  triglyceride         55692 non-null  float64\n",
      " 15  HDL                  55692 non-null  float64\n",
      " 16  LDL                  55692 non-null  float64\n",
      " 17  hemoglobin           55692 non-null  float64\n",
      " 18  Urine protein        55692 non-null  float64\n",
      " 19  serum creatinine     55692 non-null  float64\n",
      " 20  AST                  55692 non-null  float64\n",
      " 21  ALT                  55692 non-null  float64\n",
      " 22  Gtp                  55692 non-null  float64\n",
      " 23  oral                 55692 non-null  object \n",
      " 24  dental caries        55692 non-null  int64  \n",
      " 25  tartar               55692 non-null  object \n",
      " 26  smoking              55692 non-null  int64  \n",
      "dtypes: float64(18), int64(6), object(3)\n",
      "memory usage: 11.5+ MB\n"
     ]
    }
   ],
   "source": [
    "smoking_data.info()"
   ],
   "metadata": {
    "collapsed": false,
    "ExecuteTime": {
     "start_time": "2023-04-12T14:45:37.193780Z",
     "end_time": "2023-04-12T14:45:37.305501Z"
    }
   }
  },
  {
   "cell_type": "markdown",
   "source": [
    "### Here we want to change character values to corresponding numerical\n",
    "### Y is exchanged to 1, N to 0 and correspondingly, M to 1, F to 0"
   ],
   "metadata": {
    "collapsed": false
   }
  },
  {
   "cell_type": "code",
   "execution_count": 5,
   "outputs": [],
   "source": [
    "smoking_data[\"tartar\"] = smoking_data[\"tartar\"].replace([\"Y\",\"N\"],[1,0])\n",
    "smoking_data[\"gender\"] = smoking_data[\"gender\"].replace([\"M\",\"F\"],[1,0])\n",
    "smoking_data[\"oral\"] = smoking_data[\"oral\"].replace([\"Y\",\"N\"], [1,0])"
   ],
   "metadata": {
    "collapsed": false,
    "ExecuteTime": {
     "start_time": "2023-04-12T14:45:37.225694Z",
     "end_time": "2023-04-12T14:45:37.409246Z"
    }
   }
  },
  {
   "cell_type": "markdown",
   "source": [
    "### We want to make sure that each column has multiple values and that we don't have any redundant columns in our data"
   ],
   "metadata": {
    "collapsed": false
   }
  },
  {
   "cell_type": "code",
   "execution_count": 6,
   "outputs": [
    {
     "data": {
      "text/plain": "Index(['oral'], dtype='object')"
     },
     "execution_count": 6,
     "metadata": {},
     "output_type": "execute_result"
    }
   ],
   "source": [
    "smoking_data.columns[list(smoking_data.nunique() == 1)]"
   ],
   "metadata": {
    "collapsed": false,
    "ExecuteTime": {
     "start_time": "2023-04-12T14:45:37.290521Z",
     "end_time": "2023-04-12T14:45:37.443141Z"
    }
   }
  },
  {
   "cell_type": "markdown",
   "source": [
    "### Column \"oral\" is containing only 1 unique value, therefore it is redundant and we can drop it\n",
    "### We can also drop the column \"ID\", as it does not carry any relevant information"
   ],
   "metadata": {
    "collapsed": false
   }
  },
  {
   "cell_type": "code",
   "execution_count": 7,
   "outputs": [],
   "source": [
    "smoking_data.drop([\"ID\",\"oral\"], axis = 1, inplace=True)"
   ],
   "metadata": {
    "collapsed": false,
    "ExecuteTime": {
     "start_time": "2023-04-12T14:45:37.335404Z",
     "end_time": "2023-04-12T14:45:37.444111Z"
    }
   }
  },
  {
   "cell_type": "markdown",
   "source": [
    "### Adding \"bmi\" column based on weight and height\n",
    "### Based on bmi, we can calculate whether the patient is in in healthy weight = 0, obese = 1 or malnourished = -1 and add these values to the column \"healthy weight\""
   ],
   "metadata": {
    "collapsed": false
   }
  },
  {
   "cell_type": "code",
   "execution_count": 8,
   "outputs": [
    {
     "data": {
      "text/plain": "       gender  age  height(cm)  weight(kg)  waist(cm)  eyesight(left)   \n0           0   40         155          60       81.3             1.2  \\\n1           0   40         160          60       81.0             0.8   \n2           1   55         170          60       80.0             0.8   \n3           1   40         165          70       88.0             1.5   \n4           0   40         155          60       86.0             1.0   \n...       ...  ...         ...         ...        ...             ...   \n55687       0   40         170          65       75.0             0.9   \n55688       0   45         160          50       70.0             1.2   \n55689       0   55         160          50       68.5             1.0   \n55690       1   60         165          60       78.0             0.8   \n55691       1   55         160          65       85.0             0.9   \n\n       eyesight(right)  hearing(left)  hearing(right)  systolic  ...   \n0                  1.0            1.0             1.0     114.0  ...  \\\n1                  0.6            1.0             1.0     119.0  ...   \n2                  0.8            1.0             1.0     138.0  ...   \n3                  1.5            1.0             1.0     100.0  ...   \n4                  1.0            1.0             1.0     120.0  ...   \n...                ...            ...             ...       ...  ...   \n55687              0.9            1.0             1.0     110.0  ...   \n55688              1.2            1.0             1.0     101.0  ...   \n55689              1.2            1.0             1.0     117.0  ...   \n55690              1.0            1.0             1.0     133.0  ...   \n55691              0.7            1.0             1.0     124.0  ...   \n\n       Urine protein  serum creatinine   AST   ALT   Gtp  dental caries   \n0                1.0               0.7  18.0  19.0  27.0              0  \\\n1                1.0               0.6  22.0  19.0  18.0              0   \n2                1.0               1.0  21.0  16.0  22.0              0   \n3                1.0               1.0  19.0  26.0  18.0              0   \n4                1.0               0.6  16.0  14.0  22.0              0   \n...              ...               ...   ...   ...   ...            ...   \n55687            1.0               0.6  14.0   7.0  10.0              1   \n55688            1.0               0.9  20.0  12.0  14.0              0   \n55689            1.0               0.5  17.0  11.0  12.0              0   \n55690            1.0               0.7  20.0  19.0  18.0              0   \n55691            1.0               0.8  26.0  29.0  41.0              0   \n\n       tartar  smoking    bmi  healthy weight  \n0           1        0  24.97             1.0  \n1           1        0  23.44             0.0  \n2           0        1  20.76             0.0  \n3           1        0  25.71             1.0  \n4           0        0  24.97             1.0  \n...       ...      ...    ...             ...  \n55687       1        0  22.49             0.0  \n55688       1        0  19.53             0.0  \n55689       0        0  19.53             0.0  \n55690       0        0  22.04             0.0  \n55691       1        1  25.39             1.0  \n\n[55692 rows x 27 columns]",
      "text/html": "<div>\n<style scoped>\n    .dataframe tbody tr th:only-of-type {\n        vertical-align: middle;\n    }\n\n    .dataframe tbody tr th {\n        vertical-align: top;\n    }\n\n    .dataframe thead th {\n        text-align: right;\n    }\n</style>\n<table border=\"1\" class=\"dataframe\">\n  <thead>\n    <tr style=\"text-align: right;\">\n      <th></th>\n      <th>gender</th>\n      <th>age</th>\n      <th>height(cm)</th>\n      <th>weight(kg)</th>\n      <th>waist(cm)</th>\n      <th>eyesight(left)</th>\n      <th>eyesight(right)</th>\n      <th>hearing(left)</th>\n      <th>hearing(right)</th>\n      <th>systolic</th>\n      <th>...</th>\n      <th>Urine protein</th>\n      <th>serum creatinine</th>\n      <th>AST</th>\n      <th>ALT</th>\n      <th>Gtp</th>\n      <th>dental caries</th>\n      <th>tartar</th>\n      <th>smoking</th>\n      <th>bmi</th>\n      <th>healthy weight</th>\n    </tr>\n  </thead>\n  <tbody>\n    <tr>\n      <th>0</th>\n      <td>0</td>\n      <td>40</td>\n      <td>155</td>\n      <td>60</td>\n      <td>81.3</td>\n      <td>1.2</td>\n      <td>1.0</td>\n      <td>1.0</td>\n      <td>1.0</td>\n      <td>114.0</td>\n      <td>...</td>\n      <td>1.0</td>\n      <td>0.7</td>\n      <td>18.0</td>\n      <td>19.0</td>\n      <td>27.0</td>\n      <td>0</td>\n      <td>1</td>\n      <td>0</td>\n      <td>24.97</td>\n      <td>1.0</td>\n    </tr>\n    <tr>\n      <th>1</th>\n      <td>0</td>\n      <td>40</td>\n      <td>160</td>\n      <td>60</td>\n      <td>81.0</td>\n      <td>0.8</td>\n      <td>0.6</td>\n      <td>1.0</td>\n      <td>1.0</td>\n      <td>119.0</td>\n      <td>...</td>\n      <td>1.0</td>\n      <td>0.6</td>\n      <td>22.0</td>\n      <td>19.0</td>\n      <td>18.0</td>\n      <td>0</td>\n      <td>1</td>\n      <td>0</td>\n      <td>23.44</td>\n      <td>0.0</td>\n    </tr>\n    <tr>\n      <th>2</th>\n      <td>1</td>\n      <td>55</td>\n      <td>170</td>\n      <td>60</td>\n      <td>80.0</td>\n      <td>0.8</td>\n      <td>0.8</td>\n      <td>1.0</td>\n      <td>1.0</td>\n      <td>138.0</td>\n      <td>...</td>\n      <td>1.0</td>\n      <td>1.0</td>\n      <td>21.0</td>\n      <td>16.0</td>\n      <td>22.0</td>\n      <td>0</td>\n      <td>0</td>\n      <td>1</td>\n      <td>20.76</td>\n      <td>0.0</td>\n    </tr>\n    <tr>\n      <th>3</th>\n      <td>1</td>\n      <td>40</td>\n      <td>165</td>\n      <td>70</td>\n      <td>88.0</td>\n      <td>1.5</td>\n      <td>1.5</td>\n      <td>1.0</td>\n      <td>1.0</td>\n      <td>100.0</td>\n      <td>...</td>\n      <td>1.0</td>\n      <td>1.0</td>\n      <td>19.0</td>\n      <td>26.0</td>\n      <td>18.0</td>\n      <td>0</td>\n      <td>1</td>\n      <td>0</td>\n      <td>25.71</td>\n      <td>1.0</td>\n    </tr>\n    <tr>\n      <th>4</th>\n      <td>0</td>\n      <td>40</td>\n      <td>155</td>\n      <td>60</td>\n      <td>86.0</td>\n      <td>1.0</td>\n      <td>1.0</td>\n      <td>1.0</td>\n      <td>1.0</td>\n      <td>120.0</td>\n      <td>...</td>\n      <td>1.0</td>\n      <td>0.6</td>\n      <td>16.0</td>\n      <td>14.0</td>\n      <td>22.0</td>\n      <td>0</td>\n      <td>0</td>\n      <td>0</td>\n      <td>24.97</td>\n      <td>1.0</td>\n    </tr>\n    <tr>\n      <th>...</th>\n      <td>...</td>\n      <td>...</td>\n      <td>...</td>\n      <td>...</td>\n      <td>...</td>\n      <td>...</td>\n      <td>...</td>\n      <td>...</td>\n      <td>...</td>\n      <td>...</td>\n      <td>...</td>\n      <td>...</td>\n      <td>...</td>\n      <td>...</td>\n      <td>...</td>\n      <td>...</td>\n      <td>...</td>\n      <td>...</td>\n      <td>...</td>\n      <td>...</td>\n      <td>...</td>\n    </tr>\n    <tr>\n      <th>55687</th>\n      <td>0</td>\n      <td>40</td>\n      <td>170</td>\n      <td>65</td>\n      <td>75.0</td>\n      <td>0.9</td>\n      <td>0.9</td>\n      <td>1.0</td>\n      <td>1.0</td>\n      <td>110.0</td>\n      <td>...</td>\n      <td>1.0</td>\n      <td>0.6</td>\n      <td>14.0</td>\n      <td>7.0</td>\n      <td>10.0</td>\n      <td>1</td>\n      <td>1</td>\n      <td>0</td>\n      <td>22.49</td>\n      <td>0.0</td>\n    </tr>\n    <tr>\n      <th>55688</th>\n      <td>0</td>\n      <td>45</td>\n      <td>160</td>\n      <td>50</td>\n      <td>70.0</td>\n      <td>1.2</td>\n      <td>1.2</td>\n      <td>1.0</td>\n      <td>1.0</td>\n      <td>101.0</td>\n      <td>...</td>\n      <td>1.0</td>\n      <td>0.9</td>\n      <td>20.0</td>\n      <td>12.0</td>\n      <td>14.0</td>\n      <td>0</td>\n      <td>1</td>\n      <td>0</td>\n      <td>19.53</td>\n      <td>0.0</td>\n    </tr>\n    <tr>\n      <th>55689</th>\n      <td>0</td>\n      <td>55</td>\n      <td>160</td>\n      <td>50</td>\n      <td>68.5</td>\n      <td>1.0</td>\n      <td>1.2</td>\n      <td>1.0</td>\n      <td>1.0</td>\n      <td>117.0</td>\n      <td>...</td>\n      <td>1.0</td>\n      <td>0.5</td>\n      <td>17.0</td>\n      <td>11.0</td>\n      <td>12.0</td>\n      <td>0</td>\n      <td>0</td>\n      <td>0</td>\n      <td>19.53</td>\n      <td>0.0</td>\n    </tr>\n    <tr>\n      <th>55690</th>\n      <td>1</td>\n      <td>60</td>\n      <td>165</td>\n      <td>60</td>\n      <td>78.0</td>\n      <td>0.8</td>\n      <td>1.0</td>\n      <td>1.0</td>\n      <td>1.0</td>\n      <td>133.0</td>\n      <td>...</td>\n      <td>1.0</td>\n      <td>0.7</td>\n      <td>20.0</td>\n      <td>19.0</td>\n      <td>18.0</td>\n      <td>0</td>\n      <td>0</td>\n      <td>0</td>\n      <td>22.04</td>\n      <td>0.0</td>\n    </tr>\n    <tr>\n      <th>55691</th>\n      <td>1</td>\n      <td>55</td>\n      <td>160</td>\n      <td>65</td>\n      <td>85.0</td>\n      <td>0.9</td>\n      <td>0.7</td>\n      <td>1.0</td>\n      <td>1.0</td>\n      <td>124.0</td>\n      <td>...</td>\n      <td>1.0</td>\n      <td>0.8</td>\n      <td>26.0</td>\n      <td>29.0</td>\n      <td>41.0</td>\n      <td>0</td>\n      <td>1</td>\n      <td>1</td>\n      <td>25.39</td>\n      <td>1.0</td>\n    </tr>\n  </tbody>\n</table>\n<p>55692 rows × 27 columns</p>\n</div>"
     },
     "execution_count": 8,
     "metadata": {},
     "output_type": "execute_result"
    }
   ],
   "source": [
    "smoking_data[\"bmi\"] = round(smoking_data[\"weight(kg)\"]/(smoking_data[\"height(cm)\"]/100)**2, 2)\n",
    "smoking_data.loc[smoking_data[\"bmi\"] > 24.9, \"healthy weight\"] = 1\n",
    "smoking_data.loc[smoking_data[\"bmi\"] < 18.5, \"healthy weight\"] = -1\n",
    "smoking_data.loc[(smoking_data[\"bmi\"] <= 24.9) & (smoking_data[\"bmi\"]>= 18.5), \"healthy weight\"] = 0\n",
    "smoking_data\n"
   ],
   "metadata": {
    "collapsed": false,
    "ExecuteTime": {
     "start_time": "2023-04-12T14:45:37.371305Z",
     "end_time": "2023-04-12T14:45:37.451093Z"
    }
   }
  },
  {
   "cell_type": "markdown",
   "source": [
    "### Final splitting of data into train and test datasets, dumping them to seperate csv files"
   ],
   "metadata": {
    "collapsed": false
   }
  },
  {
   "cell_type": "code",
   "execution_count": 12,
   "outputs": [],
   "source": [
    "from sklearn.model_selection import train_test_split\n",
    "\n",
    "train, test = train_test_split(smoking_data, test_size=0.2, train_size=0.8)\n",
    "\n",
    "train.to_csv(\"data/train_data.csv\", index_label=False, index=False)\n",
    "test.to_csv(\"data/test_data.csv\", index_label=False, index=False)"
   ],
   "metadata": {
    "collapsed": false,
    "ExecuteTime": {
     "start_time": "2023-04-12T14:48:26.090751Z",
     "end_time": "2023-04-12T14:48:27.463136Z"
    }
   }
  }
 ],
 "metadata": {
  "kernelspec": {
   "display_name": "Python 3",
   "language": "python",
   "name": "python3"
  },
  "language_info": {
   "codemirror_mode": {
    "name": "ipython",
    "version": 2
   },
   "file_extension": ".py",
   "mimetype": "text/x-python",
   "name": "python",
   "nbconvert_exporter": "python",
   "pygments_lexer": "ipython2",
   "version": "2.7.6"
  }
 },
 "nbformat": 4,
 "nbformat_minor": 0
}
