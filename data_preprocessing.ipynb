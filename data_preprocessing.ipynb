{
 "cells": [
  {
   "cell_type": "markdown",
   "source": [
    "# Preprocessing of smoking.csv dataset"
   ],
   "metadata": {
    "collapsed": false
   }
  },
  {
   "cell_type": "code",
   "execution_count": 54,
   "metadata": {
    "collapsed": true,
    "ExecuteTime": {
     "start_time": "2023-04-16T13:14:12.897913Z",
     "end_time": "2023-04-16T13:14:13.078756Z"
    }
   },
   "outputs": [
    {
     "data": {
      "text/plain": "   ID gender  age  height(cm)  weight(kg)  waist(cm)  eyesight(left)   \n0   0      F   40         155          60       81.3             1.2  \\\n1   1      F   40         160          60       81.0             0.8   \n2   2      M   55         170          60       80.0             0.8   \n3   3      M   40         165          70       88.0             1.5   \n4   4      F   40         155          60       86.0             1.0   \n\n   eyesight(right)  hearing(left)  hearing(right)  ...  hemoglobin   \n0              1.0            1.0             1.0  ...        12.9  \\\n1              0.6            1.0             1.0  ...        12.7   \n2              0.8            1.0             1.0  ...        15.8   \n3              1.5            1.0             1.0  ...        14.7   \n4              1.0            1.0             1.0  ...        12.5   \n\n   Urine protein  serum creatinine   AST   ALT   Gtp  oral  dental caries   \n0            1.0               0.7  18.0  19.0  27.0     Y              0  \\\n1            1.0               0.6  22.0  19.0  18.0     Y              0   \n2            1.0               1.0  21.0  16.0  22.0     Y              0   \n3            1.0               1.0  19.0  26.0  18.0     Y              0   \n4            1.0               0.6  16.0  14.0  22.0     Y              0   \n\n   tartar  smoking  \n0       Y        0  \n1       Y        0  \n2       N        1  \n3       Y        0  \n4       N        0  \n\n[5 rows x 27 columns]",
      "text/html": "<div>\n<style scoped>\n    .dataframe tbody tr th:only-of-type {\n        vertical-align: middle;\n    }\n\n    .dataframe tbody tr th {\n        vertical-align: top;\n    }\n\n    .dataframe thead th {\n        text-align: right;\n    }\n</style>\n<table border=\"1\" class=\"dataframe\">\n  <thead>\n    <tr style=\"text-align: right;\">\n      <th></th>\n      <th>ID</th>\n      <th>gender</th>\n      <th>age</th>\n      <th>height(cm)</th>\n      <th>weight(kg)</th>\n      <th>waist(cm)</th>\n      <th>eyesight(left)</th>\n      <th>eyesight(right)</th>\n      <th>hearing(left)</th>\n      <th>hearing(right)</th>\n      <th>...</th>\n      <th>hemoglobin</th>\n      <th>Urine protein</th>\n      <th>serum creatinine</th>\n      <th>AST</th>\n      <th>ALT</th>\n      <th>Gtp</th>\n      <th>oral</th>\n      <th>dental caries</th>\n      <th>tartar</th>\n      <th>smoking</th>\n    </tr>\n  </thead>\n  <tbody>\n    <tr>\n      <th>0</th>\n      <td>0</td>\n      <td>F</td>\n      <td>40</td>\n      <td>155</td>\n      <td>60</td>\n      <td>81.3</td>\n      <td>1.2</td>\n      <td>1.0</td>\n      <td>1.0</td>\n      <td>1.0</td>\n      <td>...</td>\n      <td>12.9</td>\n      <td>1.0</td>\n      <td>0.7</td>\n      <td>18.0</td>\n      <td>19.0</td>\n      <td>27.0</td>\n      <td>Y</td>\n      <td>0</td>\n      <td>Y</td>\n      <td>0</td>\n    </tr>\n    <tr>\n      <th>1</th>\n      <td>1</td>\n      <td>F</td>\n      <td>40</td>\n      <td>160</td>\n      <td>60</td>\n      <td>81.0</td>\n      <td>0.8</td>\n      <td>0.6</td>\n      <td>1.0</td>\n      <td>1.0</td>\n      <td>...</td>\n      <td>12.7</td>\n      <td>1.0</td>\n      <td>0.6</td>\n      <td>22.0</td>\n      <td>19.0</td>\n      <td>18.0</td>\n      <td>Y</td>\n      <td>0</td>\n      <td>Y</td>\n      <td>0</td>\n    </tr>\n    <tr>\n      <th>2</th>\n      <td>2</td>\n      <td>M</td>\n      <td>55</td>\n      <td>170</td>\n      <td>60</td>\n      <td>80.0</td>\n      <td>0.8</td>\n      <td>0.8</td>\n      <td>1.0</td>\n      <td>1.0</td>\n      <td>...</td>\n      <td>15.8</td>\n      <td>1.0</td>\n      <td>1.0</td>\n      <td>21.0</td>\n      <td>16.0</td>\n      <td>22.0</td>\n      <td>Y</td>\n      <td>0</td>\n      <td>N</td>\n      <td>1</td>\n    </tr>\n    <tr>\n      <th>3</th>\n      <td>3</td>\n      <td>M</td>\n      <td>40</td>\n      <td>165</td>\n      <td>70</td>\n      <td>88.0</td>\n      <td>1.5</td>\n      <td>1.5</td>\n      <td>1.0</td>\n      <td>1.0</td>\n      <td>...</td>\n      <td>14.7</td>\n      <td>1.0</td>\n      <td>1.0</td>\n      <td>19.0</td>\n      <td>26.0</td>\n      <td>18.0</td>\n      <td>Y</td>\n      <td>0</td>\n      <td>Y</td>\n      <td>0</td>\n    </tr>\n    <tr>\n      <th>4</th>\n      <td>4</td>\n      <td>F</td>\n      <td>40</td>\n      <td>155</td>\n      <td>60</td>\n      <td>86.0</td>\n      <td>1.0</td>\n      <td>1.0</td>\n      <td>1.0</td>\n      <td>1.0</td>\n      <td>...</td>\n      <td>12.5</td>\n      <td>1.0</td>\n      <td>0.6</td>\n      <td>16.0</td>\n      <td>14.0</td>\n      <td>22.0</td>\n      <td>Y</td>\n      <td>0</td>\n      <td>N</td>\n      <td>0</td>\n    </tr>\n  </tbody>\n</table>\n<p>5 rows × 27 columns</p>\n</div>"
     },
     "execution_count": 54,
     "metadata": {},
     "output_type": "execute_result"
    }
   ],
   "source": [
    "import pandas as pd\n",
    "from IPython.display import display\n",
    "import matplotlib.pyplot as plt\n",
    "import seaborn as sns\n",
    "import numpy as np\n",
    "smoking_data = pd.read_csv(\"data/smoking.csv\")\n",
    "smoking_data.head(5)"
   ]
  },
  {
   "cell_type": "markdown",
   "source": [
    "### Splitting of data into train and test datasets"
   ],
   "metadata": {
    "collapsed": false
   }
  },
  {
   "cell_type": "code",
   "execution_count": 55,
   "outputs": [],
   "source": [
    "from sklearn.model_selection import train_test_split\n",
    "\n",
    "train, test = train_test_split(smoking_data, test_size=0.2, train_size=0.8, random_state=1337)\n"
   ],
   "metadata": {
    "collapsed": false,
    "ExecuteTime": {
     "start_time": "2023-04-16T13:14:13.075901Z",
     "end_time": "2023-04-16T13:14:13.163176Z"
    }
   }
  },
  {
   "cell_type": "markdown",
   "source": [
    "### We check if we have any missing values for possible imputation\n",
    "**As shown in the cell below, there are no missing values**\n"
   ],
   "metadata": {
    "collapsed": false
   }
  },
  {
   "cell_type": "code",
   "execution_count": 56,
   "outputs": [
    {
     "data": {
      "text/plain": "ID                     0\ngender                 0\nage                    0\nheight(cm)             0\nweight(kg)             0\nwaist(cm)              0\neyesight(left)         0\neyesight(right)        0\nhearing(left)          0\nhearing(right)         0\nsystolic               0\nrelaxation             0\nfasting blood sugar    0\nCholesterol            0\ntriglyceride           0\nHDL                    0\nLDL                    0\nhemoglobin             0\nUrine protein          0\nserum creatinine       0\nAST                    0\nALT                    0\nGtp                    0\noral                   0\ndental caries          0\ntartar                 0\nsmoking                0\ndtype: int64"
     },
     "metadata": {},
     "output_type": "display_data"
    },
    {
     "data": {
      "text/plain": "ID                     0\ngender                 0\nage                    0\nheight(cm)             0\nweight(kg)             0\nwaist(cm)              0\neyesight(left)         0\neyesight(right)        0\nhearing(left)          0\nhearing(right)         0\nsystolic               0\nrelaxation             0\nfasting blood sugar    0\nCholesterol            0\ntriglyceride           0\nHDL                    0\nLDL                    0\nhemoglobin             0\nUrine protein          0\nserum creatinine       0\nAST                    0\nALT                    0\nGtp                    0\noral                   0\ndental caries          0\ntartar                 0\nsmoking                0\ndtype: int64"
     },
     "metadata": {},
     "output_type": "display_data"
    }
   ],
   "source": [
    "display(train.isnull().sum())\n",
    "display(test.isnull().sum())"
   ],
   "metadata": {
    "collapsed": false,
    "ExecuteTime": {
     "start_time": "2023-04-16T13:14:13.106443Z",
     "end_time": "2023-04-16T13:14:13.248439Z"
    }
   }
  },
  {
   "cell_type": "markdown",
   "source": [
    "### Check for non-numerical variables\n",
    "**We can see that columns gender, oral and tartar are not represented by a number, but rather by characters**"
   ],
   "metadata": {
    "collapsed": false
   }
  },
  {
   "cell_type": "code",
   "execution_count": 57,
   "outputs": [
    {
     "name": "stdout",
     "output_type": "stream",
     "text": [
      "<class 'pandas.core.frame.DataFrame'>\n",
      "Index: 44553 entries, 10505 to 3223\n",
      "Data columns (total 27 columns):\n",
      " #   Column               Non-Null Count  Dtype  \n",
      "---  ------               --------------  -----  \n",
      " 0   ID                   44553 non-null  int64  \n",
      " 1   gender               44553 non-null  object \n",
      " 2   age                  44553 non-null  int64  \n",
      " 3   height(cm)           44553 non-null  int64  \n",
      " 4   weight(kg)           44553 non-null  int64  \n",
      " 5   waist(cm)            44553 non-null  float64\n",
      " 6   eyesight(left)       44553 non-null  float64\n",
      " 7   eyesight(right)      44553 non-null  float64\n",
      " 8   hearing(left)        44553 non-null  float64\n",
      " 9   hearing(right)       44553 non-null  float64\n",
      " 10  systolic             44553 non-null  float64\n",
      " 11  relaxation           44553 non-null  float64\n",
      " 12  fasting blood sugar  44553 non-null  float64\n",
      " 13  Cholesterol          44553 non-null  float64\n",
      " 14  triglyceride         44553 non-null  float64\n",
      " 15  HDL                  44553 non-null  float64\n",
      " 16  LDL                  44553 non-null  float64\n",
      " 17  hemoglobin           44553 non-null  float64\n",
      " 18  Urine protein        44553 non-null  float64\n",
      " 19  serum creatinine     44553 non-null  float64\n",
      " 20  AST                  44553 non-null  float64\n",
      " 21  ALT                  44553 non-null  float64\n",
      " 22  Gtp                  44553 non-null  float64\n",
      " 23  oral                 44553 non-null  object \n",
      " 24  dental caries        44553 non-null  int64  \n",
      " 25  tartar               44553 non-null  object \n",
      " 26  smoking              44553 non-null  int64  \n",
      "dtypes: float64(18), int64(6), object(3)\n",
      "memory usage: 9.5+ MB\n"
     ]
    },
    {
     "data": {
      "text/plain": "None"
     },
     "metadata": {},
     "output_type": "display_data"
    },
    {
     "name": "stdout",
     "output_type": "stream",
     "text": [
      "<class 'pandas.core.frame.DataFrame'>\n",
      "Index: 11139 entries, 39307 to 27055\n",
      "Data columns (total 27 columns):\n",
      " #   Column               Non-Null Count  Dtype  \n",
      "---  ------               --------------  -----  \n",
      " 0   ID                   11139 non-null  int64  \n",
      " 1   gender               11139 non-null  object \n",
      " 2   age                  11139 non-null  int64  \n",
      " 3   height(cm)           11139 non-null  int64  \n",
      " 4   weight(kg)           11139 non-null  int64  \n",
      " 5   waist(cm)            11139 non-null  float64\n",
      " 6   eyesight(left)       11139 non-null  float64\n",
      " 7   eyesight(right)      11139 non-null  float64\n",
      " 8   hearing(left)        11139 non-null  float64\n",
      " 9   hearing(right)       11139 non-null  float64\n",
      " 10  systolic             11139 non-null  float64\n",
      " 11  relaxation           11139 non-null  float64\n",
      " 12  fasting blood sugar  11139 non-null  float64\n",
      " 13  Cholesterol          11139 non-null  float64\n",
      " 14  triglyceride         11139 non-null  float64\n",
      " 15  HDL                  11139 non-null  float64\n",
      " 16  LDL                  11139 non-null  float64\n",
      " 17  hemoglobin           11139 non-null  float64\n",
      " 18  Urine protein        11139 non-null  float64\n",
      " 19  serum creatinine     11139 non-null  float64\n",
      " 20  AST                  11139 non-null  float64\n",
      " 21  ALT                  11139 non-null  float64\n",
      " 22  Gtp                  11139 non-null  float64\n",
      " 23  oral                 11139 non-null  object \n",
      " 24  dental caries        11139 non-null  int64  \n",
      " 25  tartar               11139 non-null  object \n",
      " 26  smoking              11139 non-null  int64  \n",
      "dtypes: float64(18), int64(6), object(3)\n",
      "memory usage: 2.4+ MB\n"
     ]
    },
    {
     "data": {
      "text/plain": "None"
     },
     "metadata": {},
     "output_type": "display_data"
    }
   ],
   "source": [
    "display(train.info())\n",
    "display(test.info())"
   ],
   "metadata": {
    "collapsed": false,
    "ExecuteTime": {
     "start_time": "2023-04-16T13:14:13.141272Z",
     "end_time": "2023-04-16T13:14:13.312199Z"
    }
   }
  },
  {
   "cell_type": "markdown",
   "source": [
    "**Here we change character values to corresponding numerical**\n",
    "**Y is exchanged to 1, N to 0 and correspondingly, M to 1, F to 0**"
   ],
   "metadata": {
    "collapsed": false
   }
  },
  {
   "cell_type": "code",
   "execution_count": 58,
   "outputs": [
    {
     "data": {
      "text/plain": "          ID  gender  age  height(cm)  weight(kg)  waist(cm)  eyesight(left)   \n10505  13147       1   25         170          75       89.0             1.0  \\\n10222  12793       1   50         170          85       90.0             1.2   \n5115    6453       0   45         150          60       81.2             0.6   \n38468  48071       1   45         160          65       87.0             1.0   \n35446  44299       1   40         180          80       86.0             1.2   \n\n       eyesight(right)  hearing(left)  hearing(right)  ...  hemoglobin   \n10505              1.0            1.0             1.0  ...        18.5  \\\n10222              1.2            1.0             1.0  ...        15.5   \n5115               0.5            1.0             1.0  ...        13.6   \n38468              1.2            1.0             1.0  ...        16.4   \n35446              0.9            1.0             1.0  ...        14.5   \n\n       Urine protein  serum creatinine   AST   ALT   Gtp  oral  dental caries   \n10505            1.0               0.9  35.0  53.0  61.0     1              1  \\\n10222            1.0               0.9  40.0  47.0  44.0     1              0   \n5115             1.0               0.9  33.0  57.0  36.0     1              0   \n38468            1.0               1.2  43.0  52.0  61.0     1              0   \n35446            1.0               0.8  15.0  16.0  31.0     1              0   \n\n       tartar  smoking  \n10505       1        1  \n10222       1        1  \n5115        1        0  \n38468       1        1  \n35446       1        1  \n\n[5 rows x 27 columns]",
      "text/html": "<div>\n<style scoped>\n    .dataframe tbody tr th:only-of-type {\n        vertical-align: middle;\n    }\n\n    .dataframe tbody tr th {\n        vertical-align: top;\n    }\n\n    .dataframe thead th {\n        text-align: right;\n    }\n</style>\n<table border=\"1\" class=\"dataframe\">\n  <thead>\n    <tr style=\"text-align: right;\">\n      <th></th>\n      <th>ID</th>\n      <th>gender</th>\n      <th>age</th>\n      <th>height(cm)</th>\n      <th>weight(kg)</th>\n      <th>waist(cm)</th>\n      <th>eyesight(left)</th>\n      <th>eyesight(right)</th>\n      <th>hearing(left)</th>\n      <th>hearing(right)</th>\n      <th>...</th>\n      <th>hemoglobin</th>\n      <th>Urine protein</th>\n      <th>serum creatinine</th>\n      <th>AST</th>\n      <th>ALT</th>\n      <th>Gtp</th>\n      <th>oral</th>\n      <th>dental caries</th>\n      <th>tartar</th>\n      <th>smoking</th>\n    </tr>\n  </thead>\n  <tbody>\n    <tr>\n      <th>10505</th>\n      <td>13147</td>\n      <td>1</td>\n      <td>25</td>\n      <td>170</td>\n      <td>75</td>\n      <td>89.0</td>\n      <td>1.0</td>\n      <td>1.0</td>\n      <td>1.0</td>\n      <td>1.0</td>\n      <td>...</td>\n      <td>18.5</td>\n      <td>1.0</td>\n      <td>0.9</td>\n      <td>35.0</td>\n      <td>53.0</td>\n      <td>61.0</td>\n      <td>1</td>\n      <td>1</td>\n      <td>1</td>\n      <td>1</td>\n    </tr>\n    <tr>\n      <th>10222</th>\n      <td>12793</td>\n      <td>1</td>\n      <td>50</td>\n      <td>170</td>\n      <td>85</td>\n      <td>90.0</td>\n      <td>1.2</td>\n      <td>1.2</td>\n      <td>1.0</td>\n      <td>1.0</td>\n      <td>...</td>\n      <td>15.5</td>\n      <td>1.0</td>\n      <td>0.9</td>\n      <td>40.0</td>\n      <td>47.0</td>\n      <td>44.0</td>\n      <td>1</td>\n      <td>0</td>\n      <td>1</td>\n      <td>1</td>\n    </tr>\n    <tr>\n      <th>5115</th>\n      <td>6453</td>\n      <td>0</td>\n      <td>45</td>\n      <td>150</td>\n      <td>60</td>\n      <td>81.2</td>\n      <td>0.6</td>\n      <td>0.5</td>\n      <td>1.0</td>\n      <td>1.0</td>\n      <td>...</td>\n      <td>13.6</td>\n      <td>1.0</td>\n      <td>0.9</td>\n      <td>33.0</td>\n      <td>57.0</td>\n      <td>36.0</td>\n      <td>1</td>\n      <td>0</td>\n      <td>1</td>\n      <td>0</td>\n    </tr>\n    <tr>\n      <th>38468</th>\n      <td>48071</td>\n      <td>1</td>\n      <td>45</td>\n      <td>160</td>\n      <td>65</td>\n      <td>87.0</td>\n      <td>1.0</td>\n      <td>1.2</td>\n      <td>1.0</td>\n      <td>1.0</td>\n      <td>...</td>\n      <td>16.4</td>\n      <td>1.0</td>\n      <td>1.2</td>\n      <td>43.0</td>\n      <td>52.0</td>\n      <td>61.0</td>\n      <td>1</td>\n      <td>0</td>\n      <td>1</td>\n      <td>1</td>\n    </tr>\n    <tr>\n      <th>35446</th>\n      <td>44299</td>\n      <td>1</td>\n      <td>40</td>\n      <td>180</td>\n      <td>80</td>\n      <td>86.0</td>\n      <td>1.2</td>\n      <td>0.9</td>\n      <td>1.0</td>\n      <td>1.0</td>\n      <td>...</td>\n      <td>14.5</td>\n      <td>1.0</td>\n      <td>0.8</td>\n      <td>15.0</td>\n      <td>16.0</td>\n      <td>31.0</td>\n      <td>1</td>\n      <td>0</td>\n      <td>1</td>\n      <td>1</td>\n    </tr>\n  </tbody>\n</table>\n<p>5 rows × 27 columns</p>\n</div>"
     },
     "metadata": {},
     "output_type": "display_data"
    },
    {
     "data": {
      "text/plain": "          ID  gender  age  height(cm)  weight(kg)  waist(cm)  eyesight(left)   \n39307  49114       1   35         175          65       73.7             0.7  \\\n36845  46050       0   40         155          40       59.0             1.0   \n13773  17169       0   75         145          40       68.5             0.7   \n45046   2398       1   40         175          80       91.0             1.2   \n54165  48106       0   40         160          65       82.0             1.5   \n\n       eyesight(right)  hearing(left)  hearing(right)  ...  hemoglobin   \n39307              1.0            1.0             1.0  ...        15.3  \\\n36845              1.0            1.0             1.0  ...        11.5   \n13773              0.7            1.0             1.0  ...        11.1   \n45046              1.2            1.0             1.0  ...        16.7   \n54165              1.5            1.0             1.0  ...        14.8   \n\n       Urine protein  serum creatinine   AST   ALT   Gtp  oral  dental caries   \n39307            1.0               0.9  17.0   3.0  15.0     1              0  \\\n36845            1.0               0.8  24.0  15.0  12.0     1              0   \n13773            1.0               1.1  21.0  10.0  13.0     1              0   \n45046            1.0               0.9  28.0  43.0  51.0     1              0   \n54165            1.0               0.9  28.0  18.0  24.0     1              0   \n\n       tartar  smoking  \n39307       1        0  \n36845       0        0  \n13773       0        0  \n45046       1        0  \n54165       0        0  \n\n[5 rows x 27 columns]",
      "text/html": "<div>\n<style scoped>\n    .dataframe tbody tr th:only-of-type {\n        vertical-align: middle;\n    }\n\n    .dataframe tbody tr th {\n        vertical-align: top;\n    }\n\n    .dataframe thead th {\n        text-align: right;\n    }\n</style>\n<table border=\"1\" class=\"dataframe\">\n  <thead>\n    <tr style=\"text-align: right;\">\n      <th></th>\n      <th>ID</th>\n      <th>gender</th>\n      <th>age</th>\n      <th>height(cm)</th>\n      <th>weight(kg)</th>\n      <th>waist(cm)</th>\n      <th>eyesight(left)</th>\n      <th>eyesight(right)</th>\n      <th>hearing(left)</th>\n      <th>hearing(right)</th>\n      <th>...</th>\n      <th>hemoglobin</th>\n      <th>Urine protein</th>\n      <th>serum creatinine</th>\n      <th>AST</th>\n      <th>ALT</th>\n      <th>Gtp</th>\n      <th>oral</th>\n      <th>dental caries</th>\n      <th>tartar</th>\n      <th>smoking</th>\n    </tr>\n  </thead>\n  <tbody>\n    <tr>\n      <th>39307</th>\n      <td>49114</td>\n      <td>1</td>\n      <td>35</td>\n      <td>175</td>\n      <td>65</td>\n      <td>73.7</td>\n      <td>0.7</td>\n      <td>1.0</td>\n      <td>1.0</td>\n      <td>1.0</td>\n      <td>...</td>\n      <td>15.3</td>\n      <td>1.0</td>\n      <td>0.9</td>\n      <td>17.0</td>\n      <td>3.0</td>\n      <td>15.0</td>\n      <td>1</td>\n      <td>0</td>\n      <td>1</td>\n      <td>0</td>\n    </tr>\n    <tr>\n      <th>36845</th>\n      <td>46050</td>\n      <td>0</td>\n      <td>40</td>\n      <td>155</td>\n      <td>40</td>\n      <td>59.0</td>\n      <td>1.0</td>\n      <td>1.0</td>\n      <td>1.0</td>\n      <td>1.0</td>\n      <td>...</td>\n      <td>11.5</td>\n      <td>1.0</td>\n      <td>0.8</td>\n      <td>24.0</td>\n      <td>15.0</td>\n      <td>12.0</td>\n      <td>1</td>\n      <td>0</td>\n      <td>0</td>\n      <td>0</td>\n    </tr>\n    <tr>\n      <th>13773</th>\n      <td>17169</td>\n      <td>0</td>\n      <td>75</td>\n      <td>145</td>\n      <td>40</td>\n      <td>68.5</td>\n      <td>0.7</td>\n      <td>0.7</td>\n      <td>1.0</td>\n      <td>1.0</td>\n      <td>...</td>\n      <td>11.1</td>\n      <td>1.0</td>\n      <td>1.1</td>\n      <td>21.0</td>\n      <td>10.0</td>\n      <td>13.0</td>\n      <td>1</td>\n      <td>0</td>\n      <td>0</td>\n      <td>0</td>\n    </tr>\n    <tr>\n      <th>45046</th>\n      <td>2398</td>\n      <td>1</td>\n      <td>40</td>\n      <td>175</td>\n      <td>80</td>\n      <td>91.0</td>\n      <td>1.2</td>\n      <td>1.2</td>\n      <td>1.0</td>\n      <td>1.0</td>\n      <td>...</td>\n      <td>16.7</td>\n      <td>1.0</td>\n      <td>0.9</td>\n      <td>28.0</td>\n      <td>43.0</td>\n      <td>51.0</td>\n      <td>1</td>\n      <td>0</td>\n      <td>1</td>\n      <td>0</td>\n    </tr>\n    <tr>\n      <th>54165</th>\n      <td>48106</td>\n      <td>0</td>\n      <td>40</td>\n      <td>160</td>\n      <td>65</td>\n      <td>82.0</td>\n      <td>1.5</td>\n      <td>1.5</td>\n      <td>1.0</td>\n      <td>1.0</td>\n      <td>...</td>\n      <td>14.8</td>\n      <td>1.0</td>\n      <td>0.9</td>\n      <td>28.0</td>\n      <td>18.0</td>\n      <td>24.0</td>\n      <td>1</td>\n      <td>0</td>\n      <td>0</td>\n      <td>0</td>\n    </tr>\n  </tbody>\n</table>\n<p>5 rows × 27 columns</p>\n</div>"
     },
     "metadata": {},
     "output_type": "display_data"
    }
   ],
   "source": [
    "train[\"tartar\"] = train[\"tartar\"].replace([\"Y\",\"N\"],[1,0])\n",
    "train[\"gender\"] = train[\"gender\"].replace([\"M\",\"F\"],[1,0])\n",
    "train[\"oral\"] = train[\"oral\"].replace([\"Y\",\"N\"], [1,0])\n",
    "display(train.head(5))\n",
    "\n",
    "test[\"tartar\"] = test[\"tartar\"].replace([\"Y\",\"N\"],[1,0])\n",
    "test[\"gender\"] = test[\"gender\"].replace([\"M\",\"F\"],[1,0])\n",
    "test[\"oral\"] = test[\"oral\"].replace([\"Y\",\"N\"], [1,0])\n",
    "display(test.head(5))"
   ],
   "metadata": {
    "collapsed": false,
    "ExecuteTime": {
     "start_time": "2023-04-16T13:14:13.204244Z",
     "end_time": "2023-04-16T13:14:13.338208Z"
    }
   }
  },
  {
   "cell_type": "markdown",
   "source": [
    "**Check whether each column has multiple values and that we don't have any redundant columns in our data**"
   ],
   "metadata": {
    "collapsed": false
   }
  },
  {
   "cell_type": "code",
   "execution_count": 59,
   "outputs": [
    {
     "data": {
      "text/plain": "Index(['oral'], dtype='object')"
     },
     "metadata": {},
     "output_type": "display_data"
    },
    {
     "data": {
      "text/plain": "Index(['oral'], dtype='object')"
     },
     "metadata": {},
     "output_type": "display_data"
    }
   ],
   "source": [
    "display(train.columns[list(train.nunique() == 1)])\n",
    "display(test.columns[list(train.nunique() == 1)])"
   ],
   "metadata": {
    "collapsed": false,
    "ExecuteTime": {
     "start_time": "2023-04-16T13:14:13.306268Z",
     "end_time": "2023-04-16T13:14:13.473871Z"
    }
   }
  },
  {
   "cell_type": "markdown",
   "source": [
    "**Column \"oral\" is containing only 1 unique value, therefore it is redundant, and we can drop it**\n",
    "**We can also drop the column \"ID\", as it does not carry any relevant information**"
   ],
   "metadata": {
    "collapsed": false
   }
  },
  {
   "cell_type": "code",
   "execution_count": 60,
   "outputs": [],
   "source": [
    "train.drop([\"ID\",\"oral\"], axis = 1, inplace=True)\n",
    "test.drop([\"ID\", \"oral\"], axis = 1, inplace= True)"
   ],
   "metadata": {
    "collapsed": false,
    "ExecuteTime": {
     "start_time": "2023-04-16T13:14:13.353255Z",
     "end_time": "2023-04-16T13:14:13.476825Z"
    }
   }
  },
  {
   "cell_type": "markdown",
   "source": [
    "### Add \"bmi\" column based on weight and height\n",
    "**Based on bmi, we can calculate whether the patient is in healthy weight = 0, obese = 1 or malnourished = -1 and add these values to the column \"healthy weight\"**"
   ],
   "metadata": {
    "collapsed": false
   }
  },
  {
   "cell_type": "code",
   "execution_count": 61,
   "outputs": [],
   "source": [
    "train[\"bmi\"] = round(train[\"weight(kg)\"]/(train[\"height(cm)\"]/100)**2, 2)\n",
    "train.loc[train[\"bmi\"] > 24.9, \"healthy weight\"] = 1\n",
    "train.loc[train[\"bmi\"] < 18.5, \"healthy weight\"] = -1\n",
    "train.loc[(train[\"bmi\"] <= 24.9) & (train[\"bmi\"]>= 18.5), \"healthy weight\"] = 0\n",
    "\n",
    "test[\"bmi\"] = round(test[\"weight(kg)\"]/(test[\"height(cm)\"]/100)**2, 2)\n",
    "test.loc[test[\"bmi\"] > 24.9, \"healthy weight\"] = 1\n",
    "test.loc[test[\"bmi\"] < 18.5, \"healthy weight\"] = -1\n",
    "test.loc[(test[\"bmi\"] <= 24.9) & (test[\"bmi\"]>= 18.5), \"healthy weight\"] = 0\n"
   ],
   "metadata": {
    "collapsed": false,
    "ExecuteTime": {
     "start_time": "2023-04-16T13:14:13.371458Z",
     "end_time": "2023-04-16T13:14:13.490365Z"
    }
   }
  },
  {
   "cell_type": "markdown",
   "source": [
    "### Dumping of split data into separate csv files"
   ],
   "metadata": {
    "collapsed": false
   }
  },
  {
   "cell_type": "code",
   "execution_count": 62,
   "outputs": [],
   "source": [
    "train.to_csv(\"data/train_data.csv\", index_label=False, index=False)\n",
    "test.to_csv(\"data/test_data.csv\", index_label=False, index=False)"
   ],
   "metadata": {
    "collapsed": false,
    "ExecuteTime": {
     "start_time": "2023-04-16T13:14:13.400499Z",
     "end_time": "2023-04-16T13:14:14.096945Z"
    }
   }
  }
 ],
 "metadata": {
  "kernelspec": {
   "display_name": "Python 3",
   "language": "python",
   "name": "python3"
  },
  "language_info": {
   "codemirror_mode": {
    "name": "ipython",
    "version": 2
   },
   "file_extension": ".py",
   "mimetype": "text/x-python",
   "name": "python",
   "nbconvert_exporter": "python",
   "pygments_lexer": "ipython2",
   "version": "2.7.6"
  }
 },
 "nbformat": 4,
 "nbformat_minor": 0
}
