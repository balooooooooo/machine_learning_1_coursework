{
 "cells": [
  {
   "cell_type": "markdown",
   "source": [
    "# Preprocessing of smoking.csv dataset"
   ],
   "metadata": {
    "collapsed": false
   }
  },
  {
   "cell_type": "code",
   "execution_count": 45,
   "metadata": {
    "collapsed": true,
    "ExecuteTime": {
     "start_time": "2023-04-12T13:34:06.782128Z",
     "end_time": "2023-04-12T13:34:06.927884Z"
    }
   },
   "outputs": [
    {
     "data": {
      "text/plain": "   ID gender  age  height(cm)  weight(kg)  waist(cm)  eyesight(left)   \n0   0      F   40         155          60       81.3             1.2  \\\n1   1      F   40         160          60       81.0             0.8   \n2   2      M   55         170          60       80.0             0.8   \n3   3      M   40         165          70       88.0             1.5   \n4   4      F   40         155          60       86.0             1.0   \n\n   eyesight(right)  hearing(left)  hearing(right)  ...  hemoglobin   \n0              1.0            1.0             1.0  ...        12.9  \\\n1              0.6            1.0             1.0  ...        12.7   \n2              0.8            1.0             1.0  ...        15.8   \n3              1.5            1.0             1.0  ...        14.7   \n4              1.0            1.0             1.0  ...        12.5   \n\n   Urine protein  serum creatinine   AST   ALT   Gtp  oral  dental caries   \n0            1.0               0.7  18.0  19.0  27.0     Y              0  \\\n1            1.0               0.6  22.0  19.0  18.0     Y              0   \n2            1.0               1.0  21.0  16.0  22.0     Y              0   \n3            1.0               1.0  19.0  26.0  18.0     Y              0   \n4            1.0               0.6  16.0  14.0  22.0     Y              0   \n\n   tartar  smoking  \n0       Y        0  \n1       Y        0  \n2       N        1  \n3       Y        0  \n4       N        0  \n\n[5 rows x 27 columns]",
      "text/html": "<div>\n<style scoped>\n    .dataframe tbody tr th:only-of-type {\n        vertical-align: middle;\n    }\n\n    .dataframe tbody tr th {\n        vertical-align: top;\n    }\n\n    .dataframe thead th {\n        text-align: right;\n    }\n</style>\n<table border=\"1\" class=\"dataframe\">\n  <thead>\n    <tr style=\"text-align: right;\">\n      <th></th>\n      <th>ID</th>\n      <th>gender</th>\n      <th>age</th>\n      <th>height(cm)</th>\n      <th>weight(kg)</th>\n      <th>waist(cm)</th>\n      <th>eyesight(left)</th>\n      <th>eyesight(right)</th>\n      <th>hearing(left)</th>\n      <th>hearing(right)</th>\n      <th>...</th>\n      <th>hemoglobin</th>\n      <th>Urine protein</th>\n      <th>serum creatinine</th>\n      <th>AST</th>\n      <th>ALT</th>\n      <th>Gtp</th>\n      <th>oral</th>\n      <th>dental caries</th>\n      <th>tartar</th>\n      <th>smoking</th>\n    </tr>\n  </thead>\n  <tbody>\n    <tr>\n      <th>0</th>\n      <td>0</td>\n      <td>F</td>\n      <td>40</td>\n      <td>155</td>\n      <td>60</td>\n      <td>81.3</td>\n      <td>1.2</td>\n      <td>1.0</td>\n      <td>1.0</td>\n      <td>1.0</td>\n      <td>...</td>\n      <td>12.9</td>\n      <td>1.0</td>\n      <td>0.7</td>\n      <td>18.0</td>\n      <td>19.0</td>\n      <td>27.0</td>\n      <td>Y</td>\n      <td>0</td>\n      <td>Y</td>\n      <td>0</td>\n    </tr>\n    <tr>\n      <th>1</th>\n      <td>1</td>\n      <td>F</td>\n      <td>40</td>\n      <td>160</td>\n      <td>60</td>\n      <td>81.0</td>\n      <td>0.8</td>\n      <td>0.6</td>\n      <td>1.0</td>\n      <td>1.0</td>\n      <td>...</td>\n      <td>12.7</td>\n      <td>1.0</td>\n      <td>0.6</td>\n      <td>22.0</td>\n      <td>19.0</td>\n      <td>18.0</td>\n      <td>Y</td>\n      <td>0</td>\n      <td>Y</td>\n      <td>0</td>\n    </tr>\n    <tr>\n      <th>2</th>\n      <td>2</td>\n      <td>M</td>\n      <td>55</td>\n      <td>170</td>\n      <td>60</td>\n      <td>80.0</td>\n      <td>0.8</td>\n      <td>0.8</td>\n      <td>1.0</td>\n      <td>1.0</td>\n      <td>...</td>\n      <td>15.8</td>\n      <td>1.0</td>\n      <td>1.0</td>\n      <td>21.0</td>\n      <td>16.0</td>\n      <td>22.0</td>\n      <td>Y</td>\n      <td>0</td>\n      <td>N</td>\n      <td>1</td>\n    </tr>\n    <tr>\n      <th>3</th>\n      <td>3</td>\n      <td>M</td>\n      <td>40</td>\n      <td>165</td>\n      <td>70</td>\n      <td>88.0</td>\n      <td>1.5</td>\n      <td>1.5</td>\n      <td>1.0</td>\n      <td>1.0</td>\n      <td>...</td>\n      <td>14.7</td>\n      <td>1.0</td>\n      <td>1.0</td>\n      <td>19.0</td>\n      <td>26.0</td>\n      <td>18.0</td>\n      <td>Y</td>\n      <td>0</td>\n      <td>Y</td>\n      <td>0</td>\n    </tr>\n    <tr>\n      <th>4</th>\n      <td>4</td>\n      <td>F</td>\n      <td>40</td>\n      <td>155</td>\n      <td>60</td>\n      <td>86.0</td>\n      <td>1.0</td>\n      <td>1.0</td>\n      <td>1.0</td>\n      <td>1.0</td>\n      <td>...</td>\n      <td>12.5</td>\n      <td>1.0</td>\n      <td>0.6</td>\n      <td>16.0</td>\n      <td>14.0</td>\n      <td>22.0</td>\n      <td>Y</td>\n      <td>0</td>\n      <td>N</td>\n      <td>0</td>\n    </tr>\n  </tbody>\n</table>\n<p>5 rows × 27 columns</p>\n</div>"
     },
     "execution_count": 45,
     "metadata": {},
     "output_type": "execute_result"
    }
   ],
   "source": [
    "import pandas as pd\n",
    "import matplotlib.pyplot as plt\n",
    "import seaborn as sns\n",
    "import numpy as np\n",
    "smoking_data = pd.read_csv(\"data/smoking.csv\")\n",
    "smoking_data.head(5)"
   ]
  },
  {
   "cell_type": "markdown",
   "source": [
    "### We can see that we have no missing values, therefore it is not needed to account for them\n"
   ],
   "metadata": {
    "collapsed": false
   }
  },
  {
   "cell_type": "code",
   "execution_count": 46,
   "outputs": [
    {
     "data": {
      "text/plain": "ID                     0\ngender                 0\nage                    0\nheight(cm)             0\nweight(kg)             0\nwaist(cm)              0\neyesight(left)         0\neyesight(right)        0\nhearing(left)          0\nhearing(right)         0\nsystolic               0\nrelaxation             0\nfasting blood sugar    0\nCholesterol            0\ntriglyceride           0\nHDL                    0\nLDL                    0\nhemoglobin             0\nUrine protein          0\nserum creatinine       0\nAST                    0\nALT                    0\nGtp                    0\noral                   0\ndental caries          0\ntartar                 0\nsmoking                0\ndtype: int64"
     },
     "execution_count": 46,
     "metadata": {},
     "output_type": "execute_result"
    }
   ],
   "source": [
    "smoking_data.isnull().sum()"
   ],
   "metadata": {
    "collapsed": false,
    "ExecuteTime": {
     "start_time": "2023-04-12T13:34:13.452236Z",
     "end_time": "2023-04-12T13:34:13.480427Z"
    }
   }
  },
  {
   "cell_type": "markdown",
   "source": [
    "### We can see that columns gender, oral and tartar are not represented by a number, but rather by characters"
   ],
   "metadata": {
    "collapsed": false
   }
  },
  {
   "cell_type": "code",
   "execution_count": 47,
   "outputs": [
    {
     "name": "stdout",
     "output_type": "stream",
     "text": [
      "<class 'pandas.core.frame.DataFrame'>\n",
      "RangeIndex: 55692 entries, 0 to 55691\n",
      "Data columns (total 27 columns):\n",
      " #   Column               Non-Null Count  Dtype  \n",
      "---  ------               --------------  -----  \n",
      " 0   ID                   55692 non-null  int64  \n",
      " 1   gender               55692 non-null  object \n",
      " 2   age                  55692 non-null  int64  \n",
      " 3   height(cm)           55692 non-null  int64  \n",
      " 4   weight(kg)           55692 non-null  int64  \n",
      " 5   waist(cm)            55692 non-null  float64\n",
      " 6   eyesight(left)       55692 non-null  float64\n",
      " 7   eyesight(right)      55692 non-null  float64\n",
      " 8   hearing(left)        55692 non-null  float64\n",
      " 9   hearing(right)       55692 non-null  float64\n",
      " 10  systolic             55692 non-null  float64\n",
      " 11  relaxation           55692 non-null  float64\n",
      " 12  fasting blood sugar  55692 non-null  float64\n",
      " 13  Cholesterol          55692 non-null  float64\n",
      " 14  triglyceride         55692 non-null  float64\n",
      " 15  HDL                  55692 non-null  float64\n",
      " 16  LDL                  55692 non-null  float64\n",
      " 17  hemoglobin           55692 non-null  float64\n",
      " 18  Urine protein        55692 non-null  float64\n",
      " 19  serum creatinine     55692 non-null  float64\n",
      " 20  AST                  55692 non-null  float64\n",
      " 21  ALT                  55692 non-null  float64\n",
      " 22  Gtp                  55692 non-null  float64\n",
      " 23  oral                 55692 non-null  object \n",
      " 24  dental caries        55692 non-null  int64  \n",
      " 25  tartar               55692 non-null  object \n",
      " 26  smoking              55692 non-null  int64  \n",
      "dtypes: float64(18), int64(6), object(3)\n",
      "memory usage: 11.5+ MB\n"
     ]
    }
   ],
   "source": [
    "smoking_data.info()"
   ],
   "metadata": {
    "collapsed": false,
    "ExecuteTime": {
     "start_time": "2023-04-12T13:34:15.079075Z",
     "end_time": "2023-04-12T13:34:15.102907Z"
    }
   }
  },
  {
   "cell_type": "markdown",
   "source": [
    "### Here we want to change character values to corresponding numerical\n",
    "### Y is exchanged to 1, N to 0 and correspondingly, M to 1, F to 0"
   ],
   "metadata": {
    "collapsed": false
   }
  },
  {
   "cell_type": "code",
   "execution_count": 48,
   "outputs": [],
   "source": [
    "smoking_data[\"tartar\"] = smoking_data[\"tartar\"].replace([\"Y\",\"N\"],[1,0])\n",
    "smoking_data[\"gender\"] = smoking_data[\"gender\"].replace([\"M\",\"F\"],[1,0])\n",
    "smoking_data[\"oral\"] = smoking_data[\"oral\"].replace([\"Y\",\"N\"], [1,0])"
   ],
   "metadata": {
    "collapsed": false,
    "ExecuteTime": {
     "start_time": "2023-04-12T13:34:16.499410Z",
     "end_time": "2023-04-12T13:34:16.567229Z"
    }
   }
  },
  {
   "cell_type": "markdown",
   "source": [
    "### We want to make sure that each columns has multiple values and that we don't have any redundant columns in our data"
   ],
   "metadata": {
    "collapsed": false
   }
  },
  {
   "cell_type": "code",
   "execution_count": 49,
   "outputs": [
    {
     "data": {
      "text/plain": "Index(['oral'], dtype='object')"
     },
     "execution_count": 49,
     "metadata": {},
     "output_type": "execute_result"
    }
   ],
   "source": [
    "smoking_data.columns[list(smoking_data.nunique() == 1)]"
   ],
   "metadata": {
    "collapsed": false,
    "ExecuteTime": {
     "start_time": "2023-04-12T13:34:20.406830Z",
     "end_time": "2023-04-12T13:34:20.471057Z"
    }
   }
  },
  {
   "cell_type": "markdown",
   "source": [
    "### Column oral is containing only 1 unique value, therefore it is redundant and we can drop it\n",
    "### We can also drop the column id, as it is not useful to us in any way"
   ],
   "metadata": {
    "collapsed": false
   }
  },
  {
   "cell_type": "code",
   "execution_count": 50,
   "outputs": [],
   "source": [
    "smoking_data = smoking_data.drop([\"ID\",\"oral\"], axis = 1)"
   ],
   "metadata": {
    "collapsed": false,
    "ExecuteTime": {
     "start_time": "2023-04-12T13:35:23.683360Z",
     "end_time": "2023-04-12T13:35:23.693416Z"
    }
   }
  },
  {
   "cell_type": "code",
   "execution_count": 18,
   "outputs": [],
   "source": [
    "#adding bmi column based on weight and height\n",
    "#by using bmi, we can evaluate if the patient is obese\n",
    "smoking_data[\"bmi\"] = round(smoking_data[\"weight(kg)\"]/(smoking_data[\"height(cm)\"]/100)**2, 2)"
   ],
   "metadata": {
    "collapsed": false,
    "ExecuteTime": {
     "start_time": "2023-04-08T23:40:23.240896Z",
     "end_time": "2023-04-08T23:40:23.252379Z"
    }
   }
  },
  {
   "cell_type": "markdown",
   "source": [],
   "metadata": {
    "collapsed": false
   }
  },
  {
   "cell_type": "code",
   "execution_count": 22,
   "outputs": [],
   "source": [
    "#splitting data into train and test\n",
    "from sklearn.model_selection import train_test_split\n",
    "\n",
    "train, test = train_test_split(smoking_data, test_size=0.2, train_size=0.8)\n",
    "\n",
    "train.to_csv(\"data/train_data.csv\")\n",
    "test.to_csv(\"data/test_data.csv\")"
   ],
   "metadata": {
    "collapsed": false,
    "ExecuteTime": {
     "start_time": "2023-04-08T23:41:24.192648Z",
     "end_time": "2023-04-08T23:41:25.545813Z"
    }
   }
  }
 ],
 "metadata": {
  "kernelspec": {
   "display_name": "Python 3",
   "language": "python",
   "name": "python3"
  },
  "language_info": {
   "codemirror_mode": {
    "name": "ipython",
    "version": 2
   },
   "file_extension": ".py",
   "mimetype": "text/x-python",
   "name": "python",
   "nbconvert_exporter": "python",
   "pygments_lexer": "ipython2",
   "version": "2.7.6"
  }
 },
 "nbformat": 4,
 "nbformat_minor": 0
}
