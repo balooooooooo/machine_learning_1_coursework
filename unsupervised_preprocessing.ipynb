{
 "cells": [
  {
   "cell_type": "markdown",
   "source": [
    "# Preprocessing of smoking.csv dataset for unsupervised learning"
   ],
   "metadata": {
    "collapsed": false
   }
  },
  {
   "cell_type": "code",
   "execution_count": 10,
   "outputs": [],
   "source": [
    "import pandas as pd\n",
    "import matplotlib.pyplot as plt\n",
    "from sklearn.preprocessing import StandardScaler\n",
    "from sklearn.decomposition import PCA\n",
    "\n",
    "# load data - using train_data.csv because of previous preprocessing\n",
    "unsup_data = pd.read_csv(\"data/train_data.csv\")"
   ],
   "metadata": {
    "collapsed": false,
    "ExecuteTime": {
     "start_time": "2023-04-23T17:12:11.621628Z",
     "end_time": "2023-04-23T17:12:11.808566Z"
    }
   }
  },
  {
   "cell_type": "markdown",
   "source": [
    "### Subsetting\n",
    "**We want to select only males that have dental caries and are in their early 20s**"
   ],
   "metadata": {
    "collapsed": false
   }
  },
  {
   "cell_type": "code",
   "execution_count": 11,
   "outputs": [
    {
     "name": "stdout",
     "output_type": "stream",
     "text": [
      "200\n"
     ]
    },
    {
     "data": {
      "text/plain": "       height(cm)  weight(kg)  waist(cm)  eyesight(left)  eyesight(right)   \n284           175          75       79.8             1.5              1.5  \\\n327           175          75       85.0             1.0              1.0   \n527           170          70       78.0             1.0              1.2   \n647           170          60       71.0             1.2              1.5   \n663           170          75       78.1             0.5              0.7   \n...           ...         ...        ...             ...              ...   \n44444         175          65       70.0             1.5              1.2   \n44465         170          80       86.1             2.0              1.5   \n44530         170          70       87.2             1.2              1.2   \n44538         175          70       82.0             1.0              0.9   \n44546         180          85       92.5             1.5              1.5   \n\n       hearing(left)  hearing(right)  systolic  relaxation   \n284              1.0             1.0     122.0        74.0  \\\n327              1.0             1.0     120.0        70.0   \n527              1.0             1.0     119.0        73.0   \n647              1.0             1.0     108.0        78.0   \n663              1.0             1.0     102.0        60.0   \n...              ...             ...       ...         ...   \n44444            1.0             1.0     118.0        78.0   \n44465            1.0             1.0     118.0        78.0   \n44530            1.0             1.0     136.0        80.0   \n44538            1.0             1.0     120.0        70.0   \n44546            1.0             1.0     115.0        63.0   \n\n       fasting_blood_sugar  ...   ast   alt   gtp  tartar  smoking    bmi   \n284                   89.0  ...  24.0  16.0  35.0       0        1  24.49  \\\n327                   92.0  ...  20.0  32.0  24.0       0        1  24.49   \n527                   91.0  ...  24.0  16.0  20.0       1        0  24.22   \n647                   88.0  ...  20.0  14.0  17.0       1        1  20.76   \n663                  108.0  ...  21.0  18.0  25.0       1        1  25.95   \n...                    ...  ...   ...   ...   ...     ...      ...    ...   \n44444                 89.0  ...  24.0  22.0  26.0       0        1  21.22   \n44465                 95.0  ...  30.0  64.0  38.0       1        1  27.68   \n44530                 85.0  ...  22.0  15.0  17.0       1        0  24.22   \n44538                 99.0  ...  35.0  39.0  27.0       1        0  22.86   \n44546                110.0  ...  21.0  17.0  25.0       0        0  26.23   \n\n       healthy_weight  eyesight_total  vision  hearing_impairment  \n284               0.0             3.0       0                   0  \n327               0.0             2.0       1                   0  \n527               0.0             2.2       1                   0  \n647               0.0             2.7       0                   0  \n663               1.0             1.2       1                   0  \n...               ...             ...     ...                 ...  \n44444             0.0             2.7       0                   0  \n44465             1.0             3.5       0                   0  \n44530             0.0             2.4       1                   0  \n44538             0.0             1.9       1                   0  \n44546             1.0             3.0       0                   0  \n\n[371 rows x 27 columns]",
      "text/html": "<div>\n<style scoped>\n    .dataframe tbody tr th:only-of-type {\n        vertical-align: middle;\n    }\n\n    .dataframe tbody tr th {\n        vertical-align: top;\n    }\n\n    .dataframe thead th {\n        text-align: right;\n    }\n</style>\n<table border=\"1\" class=\"dataframe\">\n  <thead>\n    <tr style=\"text-align: right;\">\n      <th></th>\n      <th>height(cm)</th>\n      <th>weight(kg)</th>\n      <th>waist(cm)</th>\n      <th>eyesight(left)</th>\n      <th>eyesight(right)</th>\n      <th>hearing(left)</th>\n      <th>hearing(right)</th>\n      <th>systolic</th>\n      <th>relaxation</th>\n      <th>fasting_blood_sugar</th>\n      <th>...</th>\n      <th>ast</th>\n      <th>alt</th>\n      <th>gtp</th>\n      <th>tartar</th>\n      <th>smoking</th>\n      <th>bmi</th>\n      <th>healthy_weight</th>\n      <th>eyesight_total</th>\n      <th>vision</th>\n      <th>hearing_impairment</th>\n    </tr>\n  </thead>\n  <tbody>\n    <tr>\n      <th>284</th>\n      <td>175</td>\n      <td>75</td>\n      <td>79.8</td>\n      <td>1.5</td>\n      <td>1.5</td>\n      <td>1.0</td>\n      <td>1.0</td>\n      <td>122.0</td>\n      <td>74.0</td>\n      <td>89.0</td>\n      <td>...</td>\n      <td>24.0</td>\n      <td>16.0</td>\n      <td>35.0</td>\n      <td>0</td>\n      <td>1</td>\n      <td>24.49</td>\n      <td>0.0</td>\n      <td>3.0</td>\n      <td>0</td>\n      <td>0</td>\n    </tr>\n    <tr>\n      <th>327</th>\n      <td>175</td>\n      <td>75</td>\n      <td>85.0</td>\n      <td>1.0</td>\n      <td>1.0</td>\n      <td>1.0</td>\n      <td>1.0</td>\n      <td>120.0</td>\n      <td>70.0</td>\n      <td>92.0</td>\n      <td>...</td>\n      <td>20.0</td>\n      <td>32.0</td>\n      <td>24.0</td>\n      <td>0</td>\n      <td>1</td>\n      <td>24.49</td>\n      <td>0.0</td>\n      <td>2.0</td>\n      <td>1</td>\n      <td>0</td>\n    </tr>\n    <tr>\n      <th>527</th>\n      <td>170</td>\n      <td>70</td>\n      <td>78.0</td>\n      <td>1.0</td>\n      <td>1.2</td>\n      <td>1.0</td>\n      <td>1.0</td>\n      <td>119.0</td>\n      <td>73.0</td>\n      <td>91.0</td>\n      <td>...</td>\n      <td>24.0</td>\n      <td>16.0</td>\n      <td>20.0</td>\n      <td>1</td>\n      <td>0</td>\n      <td>24.22</td>\n      <td>0.0</td>\n      <td>2.2</td>\n      <td>1</td>\n      <td>0</td>\n    </tr>\n    <tr>\n      <th>647</th>\n      <td>170</td>\n      <td>60</td>\n      <td>71.0</td>\n      <td>1.2</td>\n      <td>1.5</td>\n      <td>1.0</td>\n      <td>1.0</td>\n      <td>108.0</td>\n      <td>78.0</td>\n      <td>88.0</td>\n      <td>...</td>\n      <td>20.0</td>\n      <td>14.0</td>\n      <td>17.0</td>\n      <td>1</td>\n      <td>1</td>\n      <td>20.76</td>\n      <td>0.0</td>\n      <td>2.7</td>\n      <td>0</td>\n      <td>0</td>\n    </tr>\n    <tr>\n      <th>663</th>\n      <td>170</td>\n      <td>75</td>\n      <td>78.1</td>\n      <td>0.5</td>\n      <td>0.7</td>\n      <td>1.0</td>\n      <td>1.0</td>\n      <td>102.0</td>\n      <td>60.0</td>\n      <td>108.0</td>\n      <td>...</td>\n      <td>21.0</td>\n      <td>18.0</td>\n      <td>25.0</td>\n      <td>1</td>\n      <td>1</td>\n      <td>25.95</td>\n      <td>1.0</td>\n      <td>1.2</td>\n      <td>1</td>\n      <td>0</td>\n    </tr>\n    <tr>\n      <th>...</th>\n      <td>...</td>\n      <td>...</td>\n      <td>...</td>\n      <td>...</td>\n      <td>...</td>\n      <td>...</td>\n      <td>...</td>\n      <td>...</td>\n      <td>...</td>\n      <td>...</td>\n      <td>...</td>\n      <td>...</td>\n      <td>...</td>\n      <td>...</td>\n      <td>...</td>\n      <td>...</td>\n      <td>...</td>\n      <td>...</td>\n      <td>...</td>\n      <td>...</td>\n      <td>...</td>\n    </tr>\n    <tr>\n      <th>44444</th>\n      <td>175</td>\n      <td>65</td>\n      <td>70.0</td>\n      <td>1.5</td>\n      <td>1.2</td>\n      <td>1.0</td>\n      <td>1.0</td>\n      <td>118.0</td>\n      <td>78.0</td>\n      <td>89.0</td>\n      <td>...</td>\n      <td>24.0</td>\n      <td>22.0</td>\n      <td>26.0</td>\n      <td>0</td>\n      <td>1</td>\n      <td>21.22</td>\n      <td>0.0</td>\n      <td>2.7</td>\n      <td>0</td>\n      <td>0</td>\n    </tr>\n    <tr>\n      <th>44465</th>\n      <td>170</td>\n      <td>80</td>\n      <td>86.1</td>\n      <td>2.0</td>\n      <td>1.5</td>\n      <td>1.0</td>\n      <td>1.0</td>\n      <td>118.0</td>\n      <td>78.0</td>\n      <td>95.0</td>\n      <td>...</td>\n      <td>30.0</td>\n      <td>64.0</td>\n      <td>38.0</td>\n      <td>1</td>\n      <td>1</td>\n      <td>27.68</td>\n      <td>1.0</td>\n      <td>3.5</td>\n      <td>0</td>\n      <td>0</td>\n    </tr>\n    <tr>\n      <th>44530</th>\n      <td>170</td>\n      <td>70</td>\n      <td>87.2</td>\n      <td>1.2</td>\n      <td>1.2</td>\n      <td>1.0</td>\n      <td>1.0</td>\n      <td>136.0</td>\n      <td>80.0</td>\n      <td>85.0</td>\n      <td>...</td>\n      <td>22.0</td>\n      <td>15.0</td>\n      <td>17.0</td>\n      <td>1</td>\n      <td>0</td>\n      <td>24.22</td>\n      <td>0.0</td>\n      <td>2.4</td>\n      <td>1</td>\n      <td>0</td>\n    </tr>\n    <tr>\n      <th>44538</th>\n      <td>175</td>\n      <td>70</td>\n      <td>82.0</td>\n      <td>1.0</td>\n      <td>0.9</td>\n      <td>1.0</td>\n      <td>1.0</td>\n      <td>120.0</td>\n      <td>70.0</td>\n      <td>99.0</td>\n      <td>...</td>\n      <td>35.0</td>\n      <td>39.0</td>\n      <td>27.0</td>\n      <td>1</td>\n      <td>0</td>\n      <td>22.86</td>\n      <td>0.0</td>\n      <td>1.9</td>\n      <td>1</td>\n      <td>0</td>\n    </tr>\n    <tr>\n      <th>44546</th>\n      <td>180</td>\n      <td>85</td>\n      <td>92.5</td>\n      <td>1.5</td>\n      <td>1.5</td>\n      <td>1.0</td>\n      <td>1.0</td>\n      <td>115.0</td>\n      <td>63.0</td>\n      <td>110.0</td>\n      <td>...</td>\n      <td>21.0</td>\n      <td>17.0</td>\n      <td>25.0</td>\n      <td>0</td>\n      <td>0</td>\n      <td>26.23</td>\n      <td>1.0</td>\n      <td>3.0</td>\n      <td>0</td>\n      <td>0</td>\n    </tr>\n  </tbody>\n</table>\n<p>371 rows × 27 columns</p>\n</div>"
     },
     "execution_count": 11,
     "metadata": {},
     "output_type": "execute_result"
    }
   ],
   "source": [
    "# filter males, then drop gender column\n",
    "unsup_data = unsup_data.loc[unsup_data['gender']>0]\n",
    "unsup_data.drop(['gender'], axis=1, inplace=True)\n",
    "\n",
    "# filter dental caries, then drop column\n",
    "unsup_data = unsup_data.loc[unsup_data['dental_caries']>0]\n",
    "unsup_data.drop(['dental_caries'], axis=1, inplace=True)\n",
    "\n",
    "# filter 20-year-olds, then drop column\n",
    "unsup_data = unsup_data.loc[unsup_data['age']==20]\n",
    "unsup_data.drop(['age'], axis=1, inplace=True)\n",
    "\n",
    "# count how many smokers are in the subset\n",
    "print(unsup_data.smoking.sum())\n",
    "unsup_data"
   ],
   "metadata": {
    "collapsed": false,
    "ExecuteTime": {
     "start_time": "2023-04-23T17:12:11.810566Z",
     "end_time": "2023-04-23T17:12:11.886156Z"
    }
   }
  },
  {
   "cell_type": "markdown",
   "source": [
    "### Feature rescaling"
   ],
   "metadata": {
    "collapsed": false
   }
  },
  {
   "cell_type": "code",
   "execution_count": 12,
   "outputs": [
    {
     "name": "stdout",
     "output_type": "stream",
     "text": [
      "       height(cm)  weight(kg)   waist(cm)  eyesight(left)  eyesight(right)   \n",
      "count  371.000000  371.000000  371.000000      371.000000       371.000000  \\\n",
      "mean   172.075472   71.671159   81.320216        1.085984         1.067385   \n",
      "std      5.539023   12.115869    8.785615        0.348693         0.356315   \n",
      "min    160.000000   45.000000   62.000000        0.100000         0.100000   \n",
      "25%    170.000000   65.000000   75.000000        0.900000         0.900000   \n",
      "50%    170.000000   70.000000   81.000000        1.000000         1.000000   \n",
      "75%    175.000000   80.000000   87.000000        1.200000         1.200000   \n",
      "max    185.000000  110.000000  110.000000        2.000000         2.000000   \n",
      "\n",
      "       hearing(left)  hearing(right)    systolic  relaxation   \n",
      "count     371.000000      371.000000  371.000000  371.000000  \\\n",
      "mean        1.008086        1.005391  119.886792   74.043127   \n",
      "std         0.089680        0.073323   12.084527    8.690677   \n",
      "min         1.000000        1.000000   90.000000   50.000000   \n",
      "25%         1.000000        1.000000  110.000000   70.000000   \n",
      "50%         1.000000        1.000000  120.000000   74.000000   \n",
      "75%         1.000000        1.000000  129.000000   80.000000   \n",
      "max         2.000000        2.000000  174.000000  103.000000   \n",
      "\n",
      "       fasting_blood_sugar  ...         ast         alt         gtp   \n",
      "count           371.000000  ...  371.000000  371.000000  371.000000  \\\n",
      "mean             92.393531  ...   25.137466   26.773585   32.412399   \n",
      "std               9.825579  ...   20.325193   22.147111   33.000733   \n",
      "min              66.000000  ...   10.000000    6.000000   10.000000   \n",
      "25%              86.000000  ...   18.000000   15.000000   17.000000   \n",
      "50%              92.000000  ...   21.000000   19.000000   24.000000   \n",
      "75%              98.000000  ...   26.000000   30.500000   34.000000   \n",
      "max             137.000000  ...  320.000000  200.000000  332.000000   \n",
      "\n",
      "           tartar     smoking         bmi  healthy_weight  eyesight_total   \n",
      "count  371.000000  371.000000  371.000000      371.000000      371.000000  \\\n",
      "mean     0.703504    0.539084   24.185876        0.318059        2.153369   \n",
      "std      0.457329    0.499143    3.830973        0.541442        0.652942   \n",
      "min      0.000000    0.000000   16.330000       -1.000000        0.200000   \n",
      "25%      0.000000    0.000000   21.220000        0.000000        1.800000   \n",
      "50%      1.000000    1.000000   24.220000        0.000000        2.200000   \n",
      "75%      1.000000    1.000000   26.120000        1.000000        2.700000   \n",
      "max      1.000000    1.000000   36.330000        1.000000        4.000000   \n",
      "\n",
      "           vision  hearing_impairment  \n",
      "count  371.000000          371.000000  \n",
      "mean     0.765499            0.008086  \n",
      "std      0.589545            0.089680  \n",
      "min      0.000000            0.000000  \n",
      "25%      0.000000            0.000000  \n",
      "50%      1.000000            0.000000  \n",
      "75%      1.000000            0.000000  \n",
      "max      3.000000            1.000000  \n",
      "\n",
      "[8 rows x 27 columns]\n",
      "         height(cm)    weight(kg)     waist(cm)  eyesight(left)   \n",
      "count  3.710000e+02  3.710000e+02  3.710000e+02    3.710000e+02  \\\n",
      "mean   4.333162e-16 -4.404982e-16 -9.240886e-16    1.723689e-16   \n",
      "std    1.001350e+00  1.001350e+00  1.001350e+00    1.001350e+00   \n",
      "min   -2.183017e+00 -2.204314e+00 -2.202044e+00   -2.831475e+00   \n",
      "25%   -3.752060e-01 -5.513569e-01 -7.203538e-01   -5.340944e-01   \n",
      "50%   -3.752060e-01 -1.381177e-01 -3.649694e-02   -2.469219e-01   \n",
      "75%    5.286993e-01  6.883608e-01  6.473599e-01    3.274231e-01   \n",
      "max    2.336510e+00  3.167796e+00  3.268811e+00    2.624803e+00   \n",
      "\n",
      "       eyesight(right)  hearing(left)  hearing(right)      systolic   \n",
      "count     3.710000e+02   3.710000e+02    3.710000e+02  3.710000e+02  \\\n",
      "mean      1.053365e-16  -3.064335e-16   -1.297554e-15 -3.231916e-16   \n",
      "std       1.001350e+00   1.001350e+00    1.001350e+00  1.001350e+00   \n",
      "min      -2.718638e+00  -9.028939e-02   -7.362102e-02 -2.476485e+00   \n",
      "25%      -4.704024e-01  -9.028939e-02   -7.362102e-02 -8.192413e-01   \n",
      "50%      -1.893730e-01  -9.028939e-02   -7.362102e-02  9.380626e-03   \n",
      "75%       3.726860e-01  -9.028939e-02   -7.362102e-02  7.551404e-01   \n",
      "max       2.620922e+00   1.107550e+01    1.358308e+01  4.483939e+00   \n",
      "\n",
      "         relaxation  fasting_blood_sugar  ...           ast           alt   \n",
      "count  3.710000e+02         3.710000e+02  ...  3.710000e+02  3.710000e+02  \\\n",
      "mean  -2.860844e-16         1.627928e-16  ...  2.753114e-17 -6.703233e-17   \n",
      "std    1.001350e+00         1.001350e+00  ...  1.001350e+00  1.001350e+00   \n",
      "min   -2.770279e+00        -2.689834e+00  ... -7.457695e-01 -9.392484e-01   \n",
      "25%   -4.658540e-01        -6.515814e-01  ... -3.516377e-01 -5.323261e-01   \n",
      "50%   -4.969109e-03        -4.010577e-02  ... -2.038383e-01 -3.514717e-01   \n",
      "75%    6.863582e-01         5.713699e-01  ...  4.249399e-02  1.684846e-01   \n",
      "max    3.336446e+00         4.545962e+00  ...  1.452683e+01  7.832188e+00   \n",
      "\n",
      "                gtp      tartar     smoking           bmi  healthy_weight   \n",
      "count  3.710000e+02  371.000000  371.000000  3.710000e+02      371.000000  \\\n",
      "mean   9.576048e-17    0.703504    0.539084  4.596503e-16        0.318059   \n",
      "std    1.001350e+00    0.457329    0.499143  1.001350e+00        0.541442   \n",
      "min   -6.800657e-01    0.000000    0.000000 -2.053391e+00       -1.000000   \n",
      "25%   -4.676627e-01    0.000000    0.000000 -7.752290e-01        0.000000   \n",
      "50%   -2.552598e-01    1.000000    1.000000  8.919425e-03        0.000000   \n",
      "75%    4.817302e-02    1.000000    1.000000  5.055468e-01        1.000000   \n",
      "max    9.090470e+00    1.000000    1.000000  3.174265e+00        1.000000   \n",
      "\n",
      "       eyesight_total      vision  hearing_impairment  \n",
      "count      371.000000  371.000000          371.000000  \n",
      "mean         2.153369    0.765499            0.008086  \n",
      "std          0.652942    0.589545            0.089680  \n",
      "min          0.200000    0.000000            0.000000  \n",
      "25%          1.800000    0.000000            0.000000  \n",
      "50%          2.200000    1.000000            0.000000  \n",
      "75%          2.700000    1.000000            0.000000  \n",
      "max          4.000000    3.000000            1.000000  \n",
      "\n",
      "[8 rows x 27 columns]\n"
     ]
    }
   ],
   "source": [
    "num_cols = [\"height(cm)\", \"weight(kg)\", \"waist(cm)\", \"eyesight(left)\", \"eyesight(right)\", \"hearing(left)\", \"hearing(right)\", \"systolic\", \"fasting_blood_sugar\",\"cholesterol\", \"triglyceride\", \"hdl\", \"ldl\", \"hemoglobin\", \"relaxation\", \"serum_creatinine\", \"ast\", \"alt\", \"gtp\", \"bmi\"]\n",
    "print(unsup_data.describe())\n",
    "se = StandardScaler()\n",
    "unsup_data[num_cols] = se.fit_transform(unsup_data[num_cols])\n",
    "print(unsup_data.describe())"
   ],
   "metadata": {
    "collapsed": false,
    "ExecuteTime": {
     "start_time": "2023-04-23T17:12:11.886156Z",
     "end_time": "2023-04-23T17:12:12.164572Z"
    }
   }
  },
  {
   "cell_type": "markdown",
   "source": [
    "### Visualize to compare with clustering"
   ],
   "metadata": {
    "collapsed": false
   }
  },
  {
   "cell_type": "code",
   "execution_count": null,
   "outputs": [],
   "source": [
    "# plot of variables with the highest correlation with target\n",
    "plt.scatter(x = unsup_data['weight(kg)'], y = unsup_data['hemoglobin'], c = unsup_data['smoking'], cmap = 'viridis', edgecolors='k')\n",
    "plt.title('Scatter plot of observations')\n",
    "plt.xlabel('weight')\n",
    "plt.ylabel('hemoglobin')\n",
    "plt.grid(False)\n",
    "plt.show()\n"
   ],
   "metadata": {
    "collapsed": false
   }
  },
  {
   "cell_type": "markdown",
   "source": [
    "# Principal Component Analysis"
   ],
   "metadata": {
    "collapsed": false
   }
  },
  {
   "cell_type": "code",
   "execution_count": null,
   "outputs": [],
   "source": [
    "# initialize PCA class\n",
    "pca = PCA(n_components = 2)\n",
    "\n",
    "# create components\n",
    "pca_data = pca.fit_transform(unsup_data)\n",
    "\n",
    "# save components to dataset, so we can plot them and create csv\n",
    "y = pd.DataFrame()\n",
    "y['target'] = unsup_data['smoking']\n",
    "y['pca1'] = pca_data[:,0]\n",
    "y['pca2'] = pca_data[:,1]\n",
    "print(y)\n",
    "\n",
    "# plot PCA color coded by smoking variable\n",
    "plt.scatter(x = y['pca1'], y = y['pca2'], c=y['target'], cmap = 'viridis', edgecolors='k')\n",
    "plt.title('PCA scatter plot')\n",
    "plt.axis()\n",
    "plt.xlabel('PCA1')\n",
    "plt.ylabel('PCA2')\n",
    "plt.grid(False)\n",
    "plt.show()\n"
   ],
   "metadata": {
    "collapsed": false
   }
  },
  {
   "cell_type": "markdown",
   "source": [
    "\n",
    "### Get rid of target variable - smoking"
   ],
   "metadata": {
    "collapsed": false
   }
  },
  {
   "cell_type": "code",
   "execution_count": 15,
   "outputs": [],
   "source": [
    "y.drop(['target'], axis=1, inplace=True)\n",
    "unsup_data.drop(['smoking'], axis=1, inplace=True)"
   ],
   "metadata": {
    "collapsed": false,
    "ExecuteTime": {
     "start_time": "2023-04-23T17:12:12.864219Z",
     "end_time": "2023-04-23T17:12:12.875215Z"
    }
   }
  },
  {
   "cell_type": "markdown",
   "source": [
    "### Dump dataframe to csv"
   ],
   "metadata": {
    "collapsed": false
   }
  },
  {
   "cell_type": "code",
   "execution_count": 16,
   "outputs": [],
   "source": [
    "y.to_csv(\"data/clustering_pca_data.csv\", index_label=False, index=False)\n",
    "unsup_data.to_csv(\"data/clustering_data.csv\", index_label=False, index=False)"
   ],
   "metadata": {
    "collapsed": false,
    "ExecuteTime": {
     "start_time": "2023-04-23T17:12:12.876215Z",
     "end_time": "2023-04-23T17:12:12.928197Z"
    }
   }
  }
 ],
 "metadata": {
  "kernelspec": {
   "display_name": "Python 3",
   "language": "python",
   "name": "python3"
  },
  "language_info": {
   "codemirror_mode": {
    "name": "ipython",
    "version": 2
   },
   "file_extension": ".py",
   "mimetype": "text/x-python",
   "name": "python",
   "nbconvert_exporter": "python",
   "pygments_lexer": "ipython2",
   "version": "2.7.6"
  }
 },
 "nbformat": 4,
 "nbformat_minor": 0
}
