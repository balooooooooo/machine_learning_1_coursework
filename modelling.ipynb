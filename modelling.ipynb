{
 "cells": [
  {
   "cell_type": "code",
   "execution_count": 35,
   "outputs": [],
   "source": [
    "import pandas as pd\n",
    "from sklearn.ensemble import RandomForestClassifier\n",
    "from sklearn.metrics import f1_score\n",
    "from sklearn.metrics import confusion_matrix\n",
    "from sklearn.metrics import ConfusionMatrixDisplay\n",
    "from sklearn.tree import DecisionTreeClassifier\n",
    "from sklearn.tree import plot_tree\n",
    "from matplotlib import pyplot as plt\n",
    "\n",
    "train = pd.read_csv(\"data/train_data.csv\")\n",
    "test = pd.read_csv(\"data/test_data.csv\")"
   ],
   "metadata": {
    "collapsed": false,
    "ExecuteTime": {
     "start_time": "2023-04-23T19:15:17.989314Z",
     "end_time": "2023-04-23T19:15:18.665215Z"
    }
   }
  },
  {
   "cell_type": "markdown",
   "source": [
    "### Defining used columns and target classes"
   ],
   "metadata": {
    "collapsed": false
   }
  },
  {
   "cell_type": "code",
   "execution_count": 36,
   "outputs": [],
   "source": [
    "features = ['gender', 'age', 'height(cm)', 'weight(kg)', 'waist(cm)',\n",
    "            'eyesight(left)', 'eyesight(right)', 'hearing(left)', 'hearing(right)',\n",
    "            'systolic', 'relaxation', 'fasting_blood_sugar', 'cholesterol',\n",
    "            'triglyceride', 'hdl', 'ldl', 'hemoglobin', 'urine_protein',\n",
    "            'serum_creatinine', 'ast', 'alt', 'gtp', 'dental_caries', 'tartar',\n",
    "            'bmi', 'healthy_weight', 'eyesight_total', 'vision', 'hearing_impairment']\n",
    "classNames=[\"not smoking\",\"smoking\"]\n",
    "Y_train = train[\"smoking\"]\n",
    "X_train = train[features]\n",
    "Y_test = test[\"smoking\"]\n",
    "X_test = test[features]\n",
    "X_train"
   ],
   "metadata": {
    "collapsed": false,
    "ExecuteTime": {
     "start_time": "2023-04-23T19:15:18.015215Z",
     "end_time": "2023-04-23T19:15:18.972945Z"
    }
   }
  },
  {
   "cell_type": "markdown",
   "source": [
    "### Fitting our split data into the models\n",
    "**In order to choose the best model, we used different algorithms with different parameters. For random forests we chose the number of trees to be 10 in the smaller one and 100 in the bigger one. For decision trees, we left one unlimited and for the other we limited tree depth to 3, to be able to visualise the tree.**\n",
    "\n",
    "**We use random_state=1337 to have reproducible results**"
   ],
   "metadata": {
    "collapsed": false
   }
  },
  {
   "cell_type": "code",
   "execution_count": 37,
   "outputs": [],
   "source": [
    "forest_small = RandomForestClassifier(random_state=1337, n_estimators=10)\n",
    "forest_small.fit(X_train, Y_train)\n",
    "predictions_forest_small = forest_small.predict(X_test)"
   ],
   "metadata": {
    "collapsed": false,
    "ExecuteTime": {
     "start_time": "2023-04-23T19:15:18.038823Z",
     "end_time": "2023-04-23T19:15:21.350181Z"
    }
   }
  },
  {
   "cell_type": "code",
   "execution_count": 38,
   "outputs": [],
   "source": [
    "forest_big = RandomForestClassifier(random_state=1337, n_estimators = 100)\n",
    "forest_big.fit(X_train, Y_train)\n",
    "predictions_forest_big = forest_big.predict(X_test)"
   ],
   "metadata": {
    "collapsed": false,
    "ExecuteTime": {
     "start_time": "2023-04-23T19:15:18.038823Z",
     "end_time": "2023-04-23T19:15:37.273676Z"
    }
   }
  },
  {
   "cell_type": "code",
   "execution_count": 39,
   "outputs": [],
   "source": [
    "decision_tree_small = DecisionTreeClassifier(random_state=1337, max_depth = 3)\n",
    "tree_small_model = decision_tree_small.fit(X_train, Y_train)\n",
    "predictions_tree_small = tree_small_model.predict(X_test)"
   ],
   "metadata": {
    "collapsed": false,
    "ExecuteTime": {
     "start_time": "2023-04-23T19:15:18.038823Z",
     "end_time": "2023-04-23T19:15:37.444634Z"
    }
   }
  },
  {
   "cell_type": "code",
   "execution_count": 40,
   "outputs": [],
   "source": [
    "decision_tree_big = DecisionTreeClassifier(random_state=1337)\n",
    "tree_big_model = decision_tree_big.fit(X_train, Y_train)\n",
    "predictions_tree_big = tree_big_model.predict(X_test)"
   ],
   "metadata": {
    "collapsed": false,
    "ExecuteTime": {
     "start_time": "2023-04-23T19:15:18.038823Z",
     "end_time": "2023-04-23T19:15:38.319204Z"
    }
   }
  },
  {
   "cell_type": "markdown",
   "source": [
    "### Recall score\n",
    "**As both false negatives and false positives are expensive for us according to the cost matrix, we chose F1 score as the metric we want to measure. We can see that the bigger random forest is by far the best performing model. Smaller forest is worse, closely followed by the big decision tree. The small tree is worse than the big tree, but the difference is not as big as in the case of forests.**"
   ],
   "metadata": {
    "collapsed": false
   }
  },
  {
   "cell_type": "code",
   "execution_count": 41,
   "outputs": [],
   "source": [
    "f1_forest_big = f1_score(Y_test, predictions_forest_big)\n",
    "f1_forest_small = f1_score(Y_test, predictions_forest_small)\n",
    "f1_tree_big = f1_score(Y_test, predictions_tree_big)\n",
    "f1_tree_small = f1_score(Y_test, predictions_tree_small)\n",
    "print(f1_forest_big,f1_forest_small,f1_tree_big,f1_tree_small)\n"
   ],
   "metadata": {
    "collapsed": false,
    "ExecuteTime": {
     "start_time": "2023-04-23T19:15:18.085200Z",
     "end_time": "2023-04-23T19:15:38.380605Z"
    }
   }
  },
  {
   "cell_type": "markdown",
   "source": [
    "### Setting parameters for plots"
   ],
   "metadata": {
    "collapsed": false
   }
  },
  {
   "cell_type": "code",
   "execution_count": 42,
   "outputs": [],
   "source": [
    "# Set the default text font size\n",
    "plt.rc('font', size=30)\n",
    "# Set the axes title font size\n",
    "plt.rc('axes', titlesize=30)\n",
    "# Set the axes labels font size\n",
    "plt.rc('axes', labelsize=15)\n",
    "# Set the font size for x tick labels\n",
    "plt.rc('xtick', labelsize=15)\n",
    "# Set the font size for y tick labels\n",
    "plt.rc('ytick', labelsize=15)\n",
    "# Set the legend font size\n",
    "plt.rc('legend', fontsize=15)\n",
    "# Set the font size of the figure title\n",
    "plt.rc('figure', titlesize=15)\n",
    "# Remove grid\n",
    "plt.rcParams['axes.grid'] = False"
   ],
   "metadata": {
    "collapsed": false,
    "ExecuteTime": {
     "start_time": "2023-04-23T19:15:18.106639Z",
     "end_time": "2023-04-23T19:15:38.394571Z"
    }
   }
  },
  {
   "cell_type": "markdown",
   "source": [
    "### Plotting confusion matrices"
   ],
   "metadata": {
    "collapsed": false
   }
  },
  {
   "cell_type": "code",
   "execution_count": 43,
   "outputs": [],
   "source": [
    "fig, axs = plt.subplots(2, 2, figsize=(20, 20))\n",
    "confmatrix1=confusion_matrix(Y_test, predictions_forest_big)\n",
    "cm_display1 = ConfusionMatrixDisplay(confmatrix1).plot(ax=axs[0, 0])\n",
    "axs[0, 0].set_title('Big forest')\n",
    "confmatrix2=confusion_matrix(Y_test, predictions_forest_small)\n",
    "cm_display2 = ConfusionMatrixDisplay(confmatrix2).plot(ax=axs[0, 1])\n",
    "axs[0, 1].set_title('Small forest')\n",
    "confmatrix3=confusion_matrix(Y_test, predictions_tree_big)\n",
    "cm_display3 = ConfusionMatrixDisplay(confmatrix3).plot(ax=axs[1, 0])\n",
    "axs[1, 0].set_title('Big tree')\n",
    "confmatrix4=confusion_matrix(Y_test, predictions_tree_small)\n",
    "cm_display4 = ConfusionMatrixDisplay(confmatrix4).plot(ax=axs[1, 1])\n",
    "axs[1, 1].set_title('Small tree')\n"
   ],
   "metadata": {
    "collapsed": false,
    "ExecuteTime": {
     "start_time": "2023-04-23T19:15:18.121741Z",
     "end_time": "2023-04-23T19:15:39.847625Z"
    }
   }
  },
  {
   "cell_type": "markdown",
   "source": [
    "### Plotting confusion matrices multiplied by the cost matrix"
   ],
   "metadata": {
    "collapsed": false
   }
  },
  {
   "cell_type": "code",
   "execution_count": 44,
   "outputs": [],
   "source": [
    "costmatrix=[[20,-90],[-100,100]] #TN,FP,FN,TP"
   ],
   "metadata": {
    "collapsed": false,
    "ExecuteTime": {
     "start_time": "2023-04-23T19:15:18.137137Z",
     "end_time": "2023-04-23T19:15:39.862897Z"
    }
   }
  },
  {
   "cell_type": "code",
   "execution_count": 45,
   "outputs": [],
   "source": [
    "fig, axs = plt.subplots(2, 2, figsize=(20, 20))\n",
    "confmatrix1=confusion_matrix(Y_test, predictions_forest_big)*costmatrix\n",
    "cm_display1 = ConfusionMatrixDisplay(confmatrix1).plot(ax=axs[0, 0])\n",
    "axs[0, 0].set_title('Big forest')\n",
    "confmatrix2=confusion_matrix(Y_test, predictions_forest_small)*costmatrix\n",
    "cm_display2 = ConfusionMatrixDisplay(confmatrix2).plot(ax=axs[0, 1])\n",
    "axs[0, 1].set_title('Small forest')\n",
    "confmatrix3=confusion_matrix(Y_test, predictions_tree_big)*costmatrix\n",
    "cm_display3 = ConfusionMatrixDisplay(confmatrix3).plot(ax=axs[1, 0])\n",
    "axs[1, 0].set_title('Big tree')\n",
    "confmatrix4=(confusion_matrix(Y_test, predictions_tree_small)*costmatrix)\n",
    "cm_display4 = ConfusionMatrixDisplay(confmatrix4).plot(ax=axs[1, 1], values_format='')\n",
    "axs[1, 1].set_title('Small tree')"
   ],
   "metadata": {
    "collapsed": false,
    "ExecuteTime": {
     "start_time": "2023-04-23T19:15:18.137137Z",
     "end_time": "2023-04-23T19:15:41.463348Z"
    }
   }
  },
  {
   "cell_type": "markdown",
   "source": [
    "### Total cost for each model"
   ],
   "metadata": {
    "collapsed": false
   }
  },
  {
   "cell_type": "code",
   "execution_count": 46,
   "outputs": [],
   "source": [
    "cost1=confmatrix1.sum()\n",
    "cost2=confmatrix2.sum()\n",
    "cost3=confmatrix3.sum()\n",
    "cost4=confmatrix4.sum()\n",
    "print(cost1,cost2,cost3,cost4)"
   ],
   "metadata": {
    "collapsed": false,
    "ExecuteTime": {
     "start_time": "2023-04-23T19:15:18.150560Z",
     "end_time": "2023-04-23T19:15:41.479492Z"
    }
   }
  },
  {
   "cell_type": "markdown",
   "source": [
    "### Visualization of the smaller tree"
   ],
   "metadata": {
    "collapsed": false
   }
  },
  {
   "cell_type": "code",
   "execution_count": 47,
   "outputs": [],
   "source": [
    "plt.figure(figsize=(22,15))\n",
    "plot_tree(tree_small_model,feature_names = features,\n",
    "          class_names=classNames,\n",
    "          filled = True,fontsize=18)\n",
    "plt.savefig('decisionTree.png')"
   ],
   "metadata": {
    "collapsed": false,
    "ExecuteTime": {
     "start_time": "2023-04-23T19:15:18.186229Z",
     "end_time": "2023-04-23T19:15:43.337503Z"
    }
   }
  },
  {
   "cell_type": "markdown",
   "source": [
    "### Prediction probabilities for our chosen instance\n",
    "**As the chosen person does not smoke, we only want the probability of value 0**"
   ],
   "metadata": {
    "collapsed": false
   }
  },
  {
   "cell_type": "code",
   "execution_count": 48,
   "outputs": [],
   "source": [
    "instance=X_test.loc[[1337]]\n",
    "pred1 = forest_big.predict_proba(instance)\n",
    "pred2 = forest_small.predict_proba(instance)\n",
    "pred3 = decision_tree_big.predict_proba(instance)\n",
    "pred4 = decision_tree_small.predict_proba(instance)\n",
    "print(pred1[0][0],pred2[0][0],pred3[0][0],pred4[0][0])"
   ],
   "metadata": {
    "collapsed": false,
    "ExecuteTime": {
     "start_time": "2023-04-23T19:15:18.203602Z",
     "end_time": "2023-04-23T19:15:43.382517Z"
    }
   }
  },
  {
   "cell_type": "markdown",
   "source": [
    "### Saving data to a datafame for better looking output"
   ],
   "metadata": {
    "collapsed": false
   }
  },
  {
   "cell_type": "code",
   "execution_count": 49,
   "outputs": [],
   "source": [
    "performance = pd.DataFrame()\n",
    "performance['Model'] = ['Big forest','Small forest','Big tree','Small tree']\n",
    "performance['F1 score'] = [f1_forest_big,f1_forest_small,f1_tree_big,f1_tree_small]\n",
    "performance['Cost'] = [cost1,cost2,cost3,cost4]\n",
    "performance['Probability'] = [pred1[0][0],pred2[0][0],pred3[0][0],pred4[0][0]]\n",
    "performance"
   ],
   "metadata": {
    "collapsed": false,
    "ExecuteTime": {
     "start_time": "2023-04-23T19:15:18.231646Z",
     "end_time": "2023-04-23T19:15:43.418478Z"
    }
   }
  }
 ],
 "metadata": {
  "kernelspec": {
   "display_name": "Python 3",
   "language": "python",
   "name": "python3"
  },
  "language_info": {
   "codemirror_mode": {
    "name": "ipython",
    "version": 2
   },
   "file_extension": ".py",
   "mimetype": "text/x-python",
   "name": "python",
   "nbconvert_exporter": "python",
   "pygments_lexer": "ipython2",
   "version": "2.7.6"
  }
 },
 "nbformat": 4,
 "nbformat_minor": 0
}
