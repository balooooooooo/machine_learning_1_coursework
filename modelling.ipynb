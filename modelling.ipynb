{
 "cells": [
  {
   "cell_type": "code",
   "execution_count": 21,
   "metadata": {
    "collapsed": true,
    "ExecuteTime": {
     "start_time": "2023-04-22T11:49:42.385024Z",
     "end_time": "2023-04-22T11:49:42.548847Z"
    }
   },
   "outputs": [],
   "source": [
    "import pandas as pd\n",
    "import numpy as np\n",
    "from sklearn.ensemble import RandomForestClassifier\n",
    "from sklearn.metrics import accuracy_score\n",
    "from sklearn.metrics import classification_report\n",
    "from sklearn.metrics import confusion_matrix\n",
    "from sklearn.metrics import ConfusionMatrixDisplay\n",
    "\n",
    "from sklearn.tree import DecisionTreeClassifier\n",
    "\n",
    "train = pd.read_csv(\"random_tree_data/train_data.csv\")\n",
    "test = pd.read_csv(\"random_tree_data/test_data.csv\")"
   ]
  },
  {
   "cell_type": "markdown",
   "source": [
    "### Defining used columns and target classes"
   ],
   "metadata": {
    "collapsed": false
   }
  },
  {
   "cell_type": "code",
   "execution_count": 22,
   "outputs": [
    {
     "data": {
      "text/plain": "       gender  age  height(cm)  weight(kg)  waist(cm)  eyesight(left)   \n0           1   25         170          75       89.0             1.0  \\\n1           1   50         170          85       90.0             1.2   \n2           0   45         150          60       81.2             0.6   \n3           1   45         160          65       87.0             1.0   \n4           1   40         180          80       86.0             1.2   \n...       ...  ...         ...         ...        ...             ...   \n44548       0   40         170          75       84.0             0.1   \n44549       1   40         175          65       80.0             1.2   \n44550       0   60         150          50       77.0             0.9   \n44551       1   35         180          95      101.0             0.9   \n44552       0   60         145          50       75.8             0.3   \n\n       eyesight(right)  hearing(left)  hearing(right)  systolic  ...   \n0                  1.0            1.0             1.0     110.0  ...  \\\n1                  1.2            1.0             1.0     115.0  ...   \n2                  0.5            1.0             1.0     121.0  ...   \n3                  1.2            1.0             1.0     133.0  ...   \n4                  0.9            1.0             1.0     112.0  ...   \n...                ...            ...             ...       ...  ...   \n44548              0.2            1.0             1.0     116.0  ...   \n44549              1.0            1.0             1.0     136.0  ...   \n44550              0.9            1.0             1.0     108.0  ...   \n44551              1.0            1.0             1.0     137.0  ...   \n44552              0.3            1.0             1.0      98.0  ...   \n\n       hemoglobin  urine_protein  serum_creatinine   ast   alt   gtp   \n0            18.5            1.0               0.9  35.0  53.0  61.0  \\\n1            15.5            1.0               0.9  40.0  47.0  44.0   \n2            13.6            1.0               0.9  33.0  57.0  36.0   \n3            16.4            1.0               1.2  43.0  52.0  61.0   \n4            14.5            1.0               0.8  15.0  16.0  31.0   \n...           ...            ...               ...   ...   ...   ...   \n44548        15.0            1.0               0.8  33.0  43.0  46.0   \n44549        15.2            1.0               0.8  21.0  22.0  26.0   \n44550        14.2            1.0               0.6  24.0  23.0  25.0   \n44551        15.2            1.0               0.8  16.0  22.0  35.0   \n44552        13.7            1.0               0.8  26.0  19.0  22.0   \n\n       dental_caries  tartar    bmi  healthy_weight  \n0                  1       1  25.95             1.0  \n1                  0       1  29.41             1.0  \n2                  0       1  26.67             1.0  \n3                  0       1  25.39             1.0  \n4                  0       1  24.69             0.0  \n...              ...     ...    ...             ...  \n44548              0       0  25.95             1.0  \n44549              0       0  21.22             0.0  \n44550              1       1  22.22             0.0  \n44551              0       1  29.32             1.0  \n44552              0       0  23.78             0.0  \n\n[44553 rows x 26 columns]",
      "text/html": "<div>\n<style scoped>\n    .dataframe tbody tr th:only-of-type {\n        vertical-align: middle;\n    }\n\n    .dataframe tbody tr th {\n        vertical-align: top;\n    }\n\n    .dataframe thead th {\n        text-align: right;\n    }\n</style>\n<table border=\"1\" class=\"dataframe\">\n  <thead>\n    <tr style=\"text-align: right;\">\n      <th></th>\n      <th>gender</th>\n      <th>age</th>\n      <th>height(cm)</th>\n      <th>weight(kg)</th>\n      <th>waist(cm)</th>\n      <th>eyesight(left)</th>\n      <th>eyesight(right)</th>\n      <th>hearing(left)</th>\n      <th>hearing(right)</th>\n      <th>systolic</th>\n      <th>...</th>\n      <th>hemoglobin</th>\n      <th>urine_protein</th>\n      <th>serum_creatinine</th>\n      <th>ast</th>\n      <th>alt</th>\n      <th>gtp</th>\n      <th>dental_caries</th>\n      <th>tartar</th>\n      <th>bmi</th>\n      <th>healthy_weight</th>\n    </tr>\n  </thead>\n  <tbody>\n    <tr>\n      <th>0</th>\n      <td>1</td>\n      <td>25</td>\n      <td>170</td>\n      <td>75</td>\n      <td>89.0</td>\n      <td>1.0</td>\n      <td>1.0</td>\n      <td>1.0</td>\n      <td>1.0</td>\n      <td>110.0</td>\n      <td>...</td>\n      <td>18.5</td>\n      <td>1.0</td>\n      <td>0.9</td>\n      <td>35.0</td>\n      <td>53.0</td>\n      <td>61.0</td>\n      <td>1</td>\n      <td>1</td>\n      <td>25.95</td>\n      <td>1.0</td>\n    </tr>\n    <tr>\n      <th>1</th>\n      <td>1</td>\n      <td>50</td>\n      <td>170</td>\n      <td>85</td>\n      <td>90.0</td>\n      <td>1.2</td>\n      <td>1.2</td>\n      <td>1.0</td>\n      <td>1.0</td>\n      <td>115.0</td>\n      <td>...</td>\n      <td>15.5</td>\n      <td>1.0</td>\n      <td>0.9</td>\n      <td>40.0</td>\n      <td>47.0</td>\n      <td>44.0</td>\n      <td>0</td>\n      <td>1</td>\n      <td>29.41</td>\n      <td>1.0</td>\n    </tr>\n    <tr>\n      <th>2</th>\n      <td>0</td>\n      <td>45</td>\n      <td>150</td>\n      <td>60</td>\n      <td>81.2</td>\n      <td>0.6</td>\n      <td>0.5</td>\n      <td>1.0</td>\n      <td>1.0</td>\n      <td>121.0</td>\n      <td>...</td>\n      <td>13.6</td>\n      <td>1.0</td>\n      <td>0.9</td>\n      <td>33.0</td>\n      <td>57.0</td>\n      <td>36.0</td>\n      <td>0</td>\n      <td>1</td>\n      <td>26.67</td>\n      <td>1.0</td>\n    </tr>\n    <tr>\n      <th>3</th>\n      <td>1</td>\n      <td>45</td>\n      <td>160</td>\n      <td>65</td>\n      <td>87.0</td>\n      <td>1.0</td>\n      <td>1.2</td>\n      <td>1.0</td>\n      <td>1.0</td>\n      <td>133.0</td>\n      <td>...</td>\n      <td>16.4</td>\n      <td>1.0</td>\n      <td>1.2</td>\n      <td>43.0</td>\n      <td>52.0</td>\n      <td>61.0</td>\n      <td>0</td>\n      <td>1</td>\n      <td>25.39</td>\n      <td>1.0</td>\n    </tr>\n    <tr>\n      <th>4</th>\n      <td>1</td>\n      <td>40</td>\n      <td>180</td>\n      <td>80</td>\n      <td>86.0</td>\n      <td>1.2</td>\n      <td>0.9</td>\n      <td>1.0</td>\n      <td>1.0</td>\n      <td>112.0</td>\n      <td>...</td>\n      <td>14.5</td>\n      <td>1.0</td>\n      <td>0.8</td>\n      <td>15.0</td>\n      <td>16.0</td>\n      <td>31.0</td>\n      <td>0</td>\n      <td>1</td>\n      <td>24.69</td>\n      <td>0.0</td>\n    </tr>\n    <tr>\n      <th>...</th>\n      <td>...</td>\n      <td>...</td>\n      <td>...</td>\n      <td>...</td>\n      <td>...</td>\n      <td>...</td>\n      <td>...</td>\n      <td>...</td>\n      <td>...</td>\n      <td>...</td>\n      <td>...</td>\n      <td>...</td>\n      <td>...</td>\n      <td>...</td>\n      <td>...</td>\n      <td>...</td>\n      <td>...</td>\n      <td>...</td>\n      <td>...</td>\n      <td>...</td>\n      <td>...</td>\n    </tr>\n    <tr>\n      <th>44548</th>\n      <td>0</td>\n      <td>40</td>\n      <td>170</td>\n      <td>75</td>\n      <td>84.0</td>\n      <td>0.1</td>\n      <td>0.2</td>\n      <td>1.0</td>\n      <td>1.0</td>\n      <td>116.0</td>\n      <td>...</td>\n      <td>15.0</td>\n      <td>1.0</td>\n      <td>0.8</td>\n      <td>33.0</td>\n      <td>43.0</td>\n      <td>46.0</td>\n      <td>0</td>\n      <td>0</td>\n      <td>25.95</td>\n      <td>1.0</td>\n    </tr>\n    <tr>\n      <th>44549</th>\n      <td>1</td>\n      <td>40</td>\n      <td>175</td>\n      <td>65</td>\n      <td>80.0</td>\n      <td>1.2</td>\n      <td>1.0</td>\n      <td>1.0</td>\n      <td>1.0</td>\n      <td>136.0</td>\n      <td>...</td>\n      <td>15.2</td>\n      <td>1.0</td>\n      <td>0.8</td>\n      <td>21.0</td>\n      <td>22.0</td>\n      <td>26.0</td>\n      <td>0</td>\n      <td>0</td>\n      <td>21.22</td>\n      <td>0.0</td>\n    </tr>\n    <tr>\n      <th>44550</th>\n      <td>0</td>\n      <td>60</td>\n      <td>150</td>\n      <td>50</td>\n      <td>77.0</td>\n      <td>0.9</td>\n      <td>0.9</td>\n      <td>1.0</td>\n      <td>1.0</td>\n      <td>108.0</td>\n      <td>...</td>\n      <td>14.2</td>\n      <td>1.0</td>\n      <td>0.6</td>\n      <td>24.0</td>\n      <td>23.0</td>\n      <td>25.0</td>\n      <td>1</td>\n      <td>1</td>\n      <td>22.22</td>\n      <td>0.0</td>\n    </tr>\n    <tr>\n      <th>44551</th>\n      <td>1</td>\n      <td>35</td>\n      <td>180</td>\n      <td>95</td>\n      <td>101.0</td>\n      <td>0.9</td>\n      <td>1.0</td>\n      <td>1.0</td>\n      <td>1.0</td>\n      <td>137.0</td>\n      <td>...</td>\n      <td>15.2</td>\n      <td>1.0</td>\n      <td>0.8</td>\n      <td>16.0</td>\n      <td>22.0</td>\n      <td>35.0</td>\n      <td>0</td>\n      <td>1</td>\n      <td>29.32</td>\n      <td>1.0</td>\n    </tr>\n    <tr>\n      <th>44552</th>\n      <td>0</td>\n      <td>60</td>\n      <td>145</td>\n      <td>50</td>\n      <td>75.8</td>\n      <td>0.3</td>\n      <td>0.3</td>\n      <td>1.0</td>\n      <td>1.0</td>\n      <td>98.0</td>\n      <td>...</td>\n      <td>13.7</td>\n      <td>1.0</td>\n      <td>0.8</td>\n      <td>26.0</td>\n      <td>19.0</td>\n      <td>22.0</td>\n      <td>0</td>\n      <td>0</td>\n      <td>23.78</td>\n      <td>0.0</td>\n    </tr>\n  </tbody>\n</table>\n<p>44553 rows × 26 columns</p>\n</div>"
     },
     "execution_count": 22,
     "metadata": {},
     "output_type": "execute_result"
    }
   ],
   "source": [
    "features = ['gender', 'age', 'height(cm)', 'weight(kg)', 'waist(cm)', 'eyesight(left)', 'eyesight(right)', 'hearing(left)', 'hearing(right)', 'systolic', 'relaxation', 'fasting_blood_sugar', 'cholesterol', 'triglyceride', 'hdl', 'ldl', 'hemoglobin', 'urine_protein', 'serum_creatinine', 'ast', 'alt', 'gtp', 'dental_caries', 'tartar', 'bmi', 'healthy_weight']\n",
    "classNames=[\"not smoking\",\"smoking\"]\n",
    "Y_train = train[\"smoking\"]\n",
    "X_train = pd.get_dummies(train[features])\n",
    "X_train"
   ],
   "metadata": {
    "collapsed": false,
    "ExecuteTime": {
     "start_time": "2023-04-22T11:49:43.951070Z",
     "end_time": "2023-04-22T11:49:44.000935Z"
    }
   }
  },
  {
   "cell_type": "markdown",
   "source": [
    "### Fitting our split data into the model\n",
    "**We use random_state=1337 to have reproducible results**"
   ],
   "metadata": {
    "collapsed": false
   }
  },
  {
   "cell_type": "code",
   "execution_count": 23,
   "outputs": [
    {
     "data": {
      "text/plain": "RandomForestClassifier(random_state=1337)",
      "text/html": "<style>#sk-container-id-5 {color: black;background-color: white;}#sk-container-id-5 pre{padding: 0;}#sk-container-id-5 div.sk-toggleable {background-color: white;}#sk-container-id-5 label.sk-toggleable__label {cursor: pointer;display: block;width: 100%;margin-bottom: 0;padding: 0.3em;box-sizing: border-box;text-align: center;}#sk-container-id-5 label.sk-toggleable__label-arrow:before {content: \"▸\";float: left;margin-right: 0.25em;color: #696969;}#sk-container-id-5 label.sk-toggleable__label-arrow:hover:before {color: black;}#sk-container-id-5 div.sk-estimator:hover label.sk-toggleable__label-arrow:before {color: black;}#sk-container-id-5 div.sk-toggleable__content {max-height: 0;max-width: 0;overflow: hidden;text-align: left;background-color: #f0f8ff;}#sk-container-id-5 div.sk-toggleable__content pre {margin: 0.2em;color: black;border-radius: 0.25em;background-color: #f0f8ff;}#sk-container-id-5 input.sk-toggleable__control:checked~div.sk-toggleable__content {max-height: 200px;max-width: 100%;overflow: auto;}#sk-container-id-5 input.sk-toggleable__control:checked~label.sk-toggleable__label-arrow:before {content: \"▾\";}#sk-container-id-5 div.sk-estimator input.sk-toggleable__control:checked~label.sk-toggleable__label {background-color: #d4ebff;}#sk-container-id-5 div.sk-label input.sk-toggleable__control:checked~label.sk-toggleable__label {background-color: #d4ebff;}#sk-container-id-5 input.sk-hidden--visually {border: 0;clip: rect(1px 1px 1px 1px);clip: rect(1px, 1px, 1px, 1px);height: 1px;margin: -1px;overflow: hidden;padding: 0;position: absolute;width: 1px;}#sk-container-id-5 div.sk-estimator {font-family: monospace;background-color: #f0f8ff;border: 1px dotted black;border-radius: 0.25em;box-sizing: border-box;margin-bottom: 0.5em;}#sk-container-id-5 div.sk-estimator:hover {background-color: #d4ebff;}#sk-container-id-5 div.sk-parallel-item::after {content: \"\";width: 100%;border-bottom: 1px solid gray;flex-grow: 1;}#sk-container-id-5 div.sk-label:hover label.sk-toggleable__label {background-color: #d4ebff;}#sk-container-id-5 div.sk-serial::before {content: \"\";position: absolute;border-left: 1px solid gray;box-sizing: border-box;top: 0;bottom: 0;left: 50%;z-index: 0;}#sk-container-id-5 div.sk-serial {display: flex;flex-direction: column;align-items: center;background-color: white;padding-right: 0.2em;padding-left: 0.2em;position: relative;}#sk-container-id-5 div.sk-item {position: relative;z-index: 1;}#sk-container-id-5 div.sk-parallel {display: flex;align-items: stretch;justify-content: center;background-color: white;position: relative;}#sk-container-id-5 div.sk-item::before, #sk-container-id-5 div.sk-parallel-item::before {content: \"\";position: absolute;border-left: 1px solid gray;box-sizing: border-box;top: 0;bottom: 0;left: 50%;z-index: -1;}#sk-container-id-5 div.sk-parallel-item {display: flex;flex-direction: column;z-index: 1;position: relative;background-color: white;}#sk-container-id-5 div.sk-parallel-item:first-child::after {align-self: flex-end;width: 50%;}#sk-container-id-5 div.sk-parallel-item:last-child::after {align-self: flex-start;width: 50%;}#sk-container-id-5 div.sk-parallel-item:only-child::after {width: 0;}#sk-container-id-5 div.sk-dashed-wrapped {border: 1px dashed gray;margin: 0 0.4em 0.5em 0.4em;box-sizing: border-box;padding-bottom: 0.4em;background-color: white;}#sk-container-id-5 div.sk-label label {font-family: monospace;font-weight: bold;display: inline-block;line-height: 1.2em;}#sk-container-id-5 div.sk-label-container {text-align: center;}#sk-container-id-5 div.sk-container {/* jupyter's `normalize.less` sets `[hidden] { display: none; }` but bootstrap.min.css set `[hidden] { display: none !important; }` so we also need the `!important` here to be able to override the default hidden behavior on the sphinx rendered scikit-learn.org. See: https://github.com/scikit-learn/scikit-learn/issues/21755 */display: inline-block !important;position: relative;}#sk-container-id-5 div.sk-text-repr-fallback {display: none;}</style><div id=\"sk-container-id-5\" class=\"sk-top-container\"><div class=\"sk-text-repr-fallback\"><pre>RandomForestClassifier(random_state=1337)</pre><b>In a Jupyter environment, please rerun this cell to show the HTML representation or trust the notebook. <br />On GitHub, the HTML representation is unable to render, please try loading this page with nbviewer.org.</b></div><div class=\"sk-container\" hidden><div class=\"sk-item\"><div class=\"sk-estimator sk-toggleable\"><input class=\"sk-toggleable__control sk-hidden--visually\" id=\"sk-estimator-id-5\" type=\"checkbox\" checked><label for=\"sk-estimator-id-5\" class=\"sk-toggleable__label sk-toggleable__label-arrow\">RandomForestClassifier</label><div class=\"sk-toggleable__content\"><pre>RandomForestClassifier(random_state=1337)</pre></div></div></div></div></div>"
     },
     "execution_count": 23,
     "metadata": {},
     "output_type": "execute_result"
    }
   ],
   "source": [
    "model = RandomForestClassifier(random_state=1337,n_estimators = 100)\n",
    "model.fit(X_train, Y_train)"
   ],
   "metadata": {
    "collapsed": false,
    "ExecuteTime": {
     "start_time": "2023-04-22T11:49:45.637664Z",
     "end_time": "2023-04-22T11:49:56.105428Z"
    }
   }
  },
  {
   "cell_type": "markdown",
   "source": [
    "### Applying model on our test data"
   ],
   "metadata": {
    "collapsed": false
   }
  },
  {
   "cell_type": "code",
   "execution_count": 24,
   "outputs": [],
   "source": [
    "X_test = pd.get_dummies(test[features])\n",
    "X_test.count()\n",
    "features=X_train.columns"
   ],
   "metadata": {
    "collapsed": false,
    "ExecuteTime": {
     "start_time": "2023-04-22T11:49:58.954159Z",
     "end_time": "2023-04-22T11:49:58.970515Z"
    }
   }
  },
  {
   "cell_type": "markdown",
   "source": [
    "### Evaluation of accuracy on our test data"
   ],
   "metadata": {
    "collapsed": false
   }
  },
  {
   "cell_type": "code",
   "execution_count": 25,
   "outputs": [
    {
     "data": {
      "text/plain": "0.8375976299488285"
     },
     "execution_count": 25,
     "metadata": {},
     "output_type": "execute_result"
    }
   ],
   "source": [
    "predictions = model.predict(X_test)\n",
    "accuracy_score(test[\"smoking\"], predictions)"
   ],
   "metadata": {
    "collapsed": false,
    "ExecuteTime": {
     "start_time": "2023-04-22T11:50:00.387203Z",
     "end_time": "2023-04-22T11:50:00.640152Z"
    }
   }
  },
  {
   "cell_type": "markdown",
   "source": [
    "### Precision, recall, f1-score and support for our results"
   ],
   "metadata": {
    "collapsed": false
   }
  },
  {
   "cell_type": "code",
   "execution_count": 32,
   "outputs": [
    {
     "name": "stdout",
     "output_type": "stream",
     "text": [
      "              precision    recall  f1-score   support\n",
      "\n",
      "           0       0.88      0.86      0.87      7060\n",
      "           1       0.77      0.80      0.78      4079\n",
      "\n",
      "    accuracy                           0.84     11139\n",
      "   macro avg       0.82      0.83      0.83     11139\n",
      "weighted avg       0.84      0.84      0.84     11139\n",
      "\n"
     ]
    }
   ],
   "source": [
    "report = classification_report(test[\"smoking\"], predictions)\n",
    "print(report)"
   ],
   "metadata": {
    "collapsed": false,
    "ExecuteTime": {
     "start_time": "2023-04-22T11:56:17.822641Z",
     "end_time": "2023-04-22T11:56:17.861046Z"
    }
   }
  },
  {
   "cell_type": "code",
   "execution_count": 27,
   "outputs": [
    {
     "data": {
      "text/plain": "<sklearn.metrics._plot.confusion_matrix.ConfusionMatrixDisplay at 0x1b339256d70>"
     },
     "execution_count": 27,
     "metadata": {},
     "output_type": "execute_result"
    },
    {
     "data": {
      "text/plain": "<Figure size 640x480 with 2 Axes>",
      "image/png": "[encoded data removed]"
     },
     "metadata": {},
     "output_type": "display_data"
    }
   ],
   "source": [
    "cm = confusion_matrix(test[\"smoking\"], predictions)\n",
    "ConfusionMatrixDisplay(cm).plot()"
   ],
   "metadata": {
    "collapsed": false,
    "ExecuteTime": {
     "start_time": "2023-04-22T11:50:04.424755Z",
     "end_time": "2023-04-22T11:50:04.681608Z"
    }
   }
  },
  {
   "cell_type": "code",
   "execution_count": 19,
   "outputs": [
    {
     "name": "stdout",
     "output_type": "stream",
     "text": [
      "              precision    recall  f1-score   support\n",
      "\n",
      "           0       0.83      0.88      0.86      7060\n",
      "           1       0.77      0.70      0.73      4079\n",
      "\n",
      "    accuracy                           0.81     11139\n",
      "   macro avg       0.80      0.79      0.79     11139\n",
      "weighted avg       0.81      0.81      0.81     11139\n",
      "\n",
      "[[6198  862]\n",
      " [1236 2843]]\n"
     ]
    }
   ],
   "source": [
    "model = RandomForestClassifier(random_state=1337, n_estimators=10)\n",
    "model.fit(X_train, Y_train)\n",
    "X_test = pd.get_dummies(test[features])\n",
    "X_test.count()\n",
    "Features = X_train.columns\n",
    "predictions = model.predict(X_test)\n",
    "accuracy_score(test[\"smoking\"], predictions)\n",
    "report = classification_report(test[\"smoking\"], predictions)\n",
    "confmatrix=confusion_matrix(test[\"smoking\"], predictions)\n",
    "print(report)\n",
    "print(confmatrix)"
   ],
   "metadata": {
    "collapsed": false,
    "ExecuteTime": {
     "start_time": "2023-04-22T11:45:12.467547Z",
     "end_time": "2023-04-22T11:45:13.674932Z"
    }
   }
  },
  {
   "cell_type": "code",
   "execution_count": 17,
   "outputs": [],
   "source": [],
   "metadata": {
    "collapsed": false,
    "ExecuteTime": {
     "start_time": "2023-04-18T18:59:19.108468Z",
     "end_time": "2023-04-18T18:59:19.152006Z"
    }
   }
  }
 ],
 "metadata": {
  "kernelspec": {
   "display_name": "Python 3",
   "language": "python",
   "name": "python3"
  },
  "language_info": {
   "codemirror_mode": {
    "name": "ipython",
    "version": 2
   },
   "file_extension": ".py",
   "mimetype": "text/x-python",
   "name": "python",
   "nbconvert_exporter": "python",
   "pygments_lexer": "ipython2",
   "version": "2.7.6"
  }
 },
 "nbformat": 4,
 "nbformat_minor": 0
}
