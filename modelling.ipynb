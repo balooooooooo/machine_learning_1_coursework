{
 "cells": [
  {
   "cell_type": "code",
   "execution_count": 10,
   "metadata": {
    "collapsed": true,
    "ExecuteTime": {
     "start_time": "2023-04-18T18:59:06.470573Z",
     "end_time": "2023-04-18T18:59:06.704312Z"
    }
   },
   "outputs": [],
   "source": [
    "import pandas as pd\n",
    "import numpy as np\n",
    "from sklearn.ensemble import RandomForestClassifier\n",
    "from sklearn.metrics import accuracy_score\n",
    "from sklearn.metrics import classification_report\n",
    "from sklearn.metrics import confusion_matrix\n",
    "from sklearn.tree import DecisionTreeClassifier\n",
    "\n",
    "train = pd.read_csv(\"random_tree_data/train_data.csv\")\n",
    "test = pd.read_csv(\"random_tree_data/test_data.csv\")"
   ]
  },
  {
   "cell_type": "code",
   "execution_count": 11,
   "outputs": [
    {
     "data": {
      "text/plain": "       gender  age  weight(kg)  waist(cm)  systolic  relaxation   \n0           1   25          75       89.0     110.0        70.0  \\\n1           1   50          85       90.0     115.0        78.0   \n2           0   45          60       81.2     121.0        71.0   \n3           1   45          65       87.0     133.0        86.0   \n4           1   40          80       86.0     112.0        68.0   \n...       ...  ...         ...        ...       ...         ...   \n44548       0   40          75       84.0     116.0        74.0   \n44549       1   40          65       80.0     136.0        78.0   \n44550       0   60          50       77.0     108.0        76.0   \n44551       1   35          95      101.0     137.0        90.0   \n44552       0   60          50       75.8      98.0        67.0   \n\n       fasting blood sugar  Cholesterol  triglyceride   HDL  ...   \n0                     78.0        190.0         126.0  49.0  ...  \\\n1                    109.0        171.0         151.0  38.0  ...   \n2                    114.0        170.0         313.0  37.0  ...   \n3                    134.0        168.0         349.0  32.0  ...   \n4                    101.0        217.0          90.0  63.0  ...   \n...                    ...          ...           ...   ...  ...   \n44548                111.0        200.0         203.0  48.0  ...   \n44549                100.0        207.0         239.0  49.0  ...   \n44550                 95.0        256.0          72.0  62.0  ...   \n44551                111.0        251.0         185.0  40.0  ...   \n44552                 92.0        205.0          72.0  52.0  ...   \n\n       serum creatinine   AST   ALT   Gtp  dental caries  tartar    bmi   \n0                   0.9  35.0  53.0  61.0              1       1  25.95  \\\n1                   0.9  40.0  47.0  44.0              0       1  29.41   \n2                   0.9  33.0  57.0  36.0              0       1  26.67   \n3                   1.2  43.0  52.0  61.0              0       1  25.39   \n4                   0.8  15.0  16.0  31.0              0       1  24.69   \n...                 ...   ...   ...   ...            ...     ...    ...   \n44548               0.8  33.0  43.0  46.0              0       0  25.95   \n44549               0.8  21.0  22.0  26.0              0       0  21.22   \n44550               0.6  24.0  23.0  25.0              1       1  22.22   \n44551               0.8  16.0  22.0  35.0              0       1  29.32   \n44552               0.8  26.0  19.0  22.0              0       0  23.78   \n\n       healthy weight  hearing_impairment  vision  \n0                 1.0                   0       1  \n1                 1.0                   0       1  \n2                 1.0                   0       1  \n3                 1.0                   0       1  \n4                 0.0                   0       1  \n...               ...                 ...     ...  \n44548             1.0                   0       3  \n44549             0.0                   0       1  \n44550             0.0                   0       1  \n44551             1.0                   0       1  \n44552             0.0                   0       3  \n\n[44553 rows x 23 columns]",
      "text/html": "<div>\n<style scoped>\n    .dataframe tbody tr th:only-of-type {\n        vertical-align: middle;\n    }\n\n    .dataframe tbody tr th {\n        vertical-align: top;\n    }\n\n    .dataframe thead th {\n        text-align: right;\n    }\n</style>\n<table border=\"1\" class=\"dataframe\">\n  <thead>\n    <tr style=\"text-align: right;\">\n      <th></th>\n      <th>gender</th>\n      <th>age</th>\n      <th>weight(kg)</th>\n      <th>waist(cm)</th>\n      <th>systolic</th>\n      <th>relaxation</th>\n      <th>fasting blood sugar</th>\n      <th>Cholesterol</th>\n      <th>triglyceride</th>\n      <th>HDL</th>\n      <th>...</th>\n      <th>serum creatinine</th>\n      <th>AST</th>\n      <th>ALT</th>\n      <th>Gtp</th>\n      <th>dental caries</th>\n      <th>tartar</th>\n      <th>bmi</th>\n      <th>healthy weight</th>\n      <th>hearing_impairment</th>\n      <th>vision</th>\n    </tr>\n  </thead>\n  <tbody>\n    <tr>\n      <th>0</th>\n      <td>1</td>\n      <td>25</td>\n      <td>75</td>\n      <td>89.0</td>\n      <td>110.0</td>\n      <td>70.0</td>\n      <td>78.0</td>\n      <td>190.0</td>\n      <td>126.0</td>\n      <td>49.0</td>\n      <td>...</td>\n      <td>0.9</td>\n      <td>35.0</td>\n      <td>53.0</td>\n      <td>61.0</td>\n      <td>1</td>\n      <td>1</td>\n      <td>25.95</td>\n      <td>1.0</td>\n      <td>0</td>\n      <td>1</td>\n    </tr>\n    <tr>\n      <th>1</th>\n      <td>1</td>\n      <td>50</td>\n      <td>85</td>\n      <td>90.0</td>\n      <td>115.0</td>\n      <td>78.0</td>\n      <td>109.0</td>\n      <td>171.0</td>\n      <td>151.0</td>\n      <td>38.0</td>\n      <td>...</td>\n      <td>0.9</td>\n      <td>40.0</td>\n      <td>47.0</td>\n      <td>44.0</td>\n      <td>0</td>\n      <td>1</td>\n      <td>29.41</td>\n      <td>1.0</td>\n      <td>0</td>\n      <td>1</td>\n    </tr>\n    <tr>\n      <th>2</th>\n      <td>0</td>\n      <td>45</td>\n      <td>60</td>\n      <td>81.2</td>\n      <td>121.0</td>\n      <td>71.0</td>\n      <td>114.0</td>\n      <td>170.0</td>\n      <td>313.0</td>\n      <td>37.0</td>\n      <td>...</td>\n      <td>0.9</td>\n      <td>33.0</td>\n      <td>57.0</td>\n      <td>36.0</td>\n      <td>0</td>\n      <td>1</td>\n      <td>26.67</td>\n      <td>1.0</td>\n      <td>0</td>\n      <td>1</td>\n    </tr>\n    <tr>\n      <th>3</th>\n      <td>1</td>\n      <td>45</td>\n      <td>65</td>\n      <td>87.0</td>\n      <td>133.0</td>\n      <td>86.0</td>\n      <td>134.0</td>\n      <td>168.0</td>\n      <td>349.0</td>\n      <td>32.0</td>\n      <td>...</td>\n      <td>1.2</td>\n      <td>43.0</td>\n      <td>52.0</td>\n      <td>61.0</td>\n      <td>0</td>\n      <td>1</td>\n      <td>25.39</td>\n      <td>1.0</td>\n      <td>0</td>\n      <td>1</td>\n    </tr>\n    <tr>\n      <th>4</th>\n      <td>1</td>\n      <td>40</td>\n      <td>80</td>\n      <td>86.0</td>\n      <td>112.0</td>\n      <td>68.0</td>\n      <td>101.0</td>\n      <td>217.0</td>\n      <td>90.0</td>\n      <td>63.0</td>\n      <td>...</td>\n      <td>0.8</td>\n      <td>15.0</td>\n      <td>16.0</td>\n      <td>31.0</td>\n      <td>0</td>\n      <td>1</td>\n      <td>24.69</td>\n      <td>0.0</td>\n      <td>0</td>\n      <td>1</td>\n    </tr>\n    <tr>\n      <th>...</th>\n      <td>...</td>\n      <td>...</td>\n      <td>...</td>\n      <td>...</td>\n      <td>...</td>\n      <td>...</td>\n      <td>...</td>\n      <td>...</td>\n      <td>...</td>\n      <td>...</td>\n      <td>...</td>\n      <td>...</td>\n      <td>...</td>\n      <td>...</td>\n      <td>...</td>\n      <td>...</td>\n      <td>...</td>\n      <td>...</td>\n      <td>...</td>\n      <td>...</td>\n      <td>...</td>\n    </tr>\n    <tr>\n      <th>44548</th>\n      <td>0</td>\n      <td>40</td>\n      <td>75</td>\n      <td>84.0</td>\n      <td>116.0</td>\n      <td>74.0</td>\n      <td>111.0</td>\n      <td>200.0</td>\n      <td>203.0</td>\n      <td>48.0</td>\n      <td>...</td>\n      <td>0.8</td>\n      <td>33.0</td>\n      <td>43.0</td>\n      <td>46.0</td>\n      <td>0</td>\n      <td>0</td>\n      <td>25.95</td>\n      <td>1.0</td>\n      <td>0</td>\n      <td>3</td>\n    </tr>\n    <tr>\n      <th>44549</th>\n      <td>1</td>\n      <td>40</td>\n      <td>65</td>\n      <td>80.0</td>\n      <td>136.0</td>\n      <td>78.0</td>\n      <td>100.0</td>\n      <td>207.0</td>\n      <td>239.0</td>\n      <td>49.0</td>\n      <td>...</td>\n      <td>0.8</td>\n      <td>21.0</td>\n      <td>22.0</td>\n      <td>26.0</td>\n      <td>0</td>\n      <td>0</td>\n      <td>21.22</td>\n      <td>0.0</td>\n      <td>0</td>\n      <td>1</td>\n    </tr>\n    <tr>\n      <th>44550</th>\n      <td>0</td>\n      <td>60</td>\n      <td>50</td>\n      <td>77.0</td>\n      <td>108.0</td>\n      <td>76.0</td>\n      <td>95.0</td>\n      <td>256.0</td>\n      <td>72.0</td>\n      <td>62.0</td>\n      <td>...</td>\n      <td>0.6</td>\n      <td>24.0</td>\n      <td>23.0</td>\n      <td>25.0</td>\n      <td>1</td>\n      <td>1</td>\n      <td>22.22</td>\n      <td>0.0</td>\n      <td>0</td>\n      <td>1</td>\n    </tr>\n    <tr>\n      <th>44551</th>\n      <td>1</td>\n      <td>35</td>\n      <td>95</td>\n      <td>101.0</td>\n      <td>137.0</td>\n      <td>90.0</td>\n      <td>111.0</td>\n      <td>251.0</td>\n      <td>185.0</td>\n      <td>40.0</td>\n      <td>...</td>\n      <td>0.8</td>\n      <td>16.0</td>\n      <td>22.0</td>\n      <td>35.0</td>\n      <td>0</td>\n      <td>1</td>\n      <td>29.32</td>\n      <td>1.0</td>\n      <td>0</td>\n      <td>1</td>\n    </tr>\n    <tr>\n      <th>44552</th>\n      <td>0</td>\n      <td>60</td>\n      <td>50</td>\n      <td>75.8</td>\n      <td>98.0</td>\n      <td>67.0</td>\n      <td>92.0</td>\n      <td>205.0</td>\n      <td>72.0</td>\n      <td>52.0</td>\n      <td>...</td>\n      <td>0.8</td>\n      <td>26.0</td>\n      <td>19.0</td>\n      <td>22.0</td>\n      <td>0</td>\n      <td>0</td>\n      <td>23.78</td>\n      <td>0.0</td>\n      <td>0</td>\n      <td>3</td>\n    </tr>\n  </tbody>\n</table>\n<p>44553 rows × 23 columns</p>\n</div>"
     },
     "execution_count": 11,
     "metadata": {},
     "output_type": "execute_result"
    }
   ],
   "source": [
    "Features = ['gender', 'age', 'height(cm)', 'weight(kg)', 'waist(cm)', 'eyesight(left)', 'eyesight(right)', 'hearing(left)', 'hearing(right)', 'systolic', 'relaxation', 'fasting blood sugar', 'Cholesterol', 'triglyceride', 'HDL', 'LDL', 'hemoglobin', 'Urine protein', 'serum creatinine', 'AST', 'ALT', 'Gtp', 'dental caries', 'tartar', 'bmi', 'healthy weight']\n",
    "classNames=[\"not smoking\",\"smoking\"]\n",
    "Y = train[\"smoking\"]\n",
    "X = train[Features]\n",
    "X"
   ],
   "metadata": {
    "collapsed": false,
    "ExecuteTime": {
     "start_time": "2023-04-18T18:59:06.704312Z",
     "end_time": "2023-04-18T18:59:06.765892Z"
    }
   }
  },
  {
   "cell_type": "code",
   "execution_count": 12,
   "outputs": [
    {
     "data": {
      "text/plain": "RandomForestClassifier(random_state=1337)",
      "text/html": "<style>#sk-container-id-2 {color: black;background-color: white;}#sk-container-id-2 pre{padding: 0;}#sk-container-id-2 div.sk-toggleable {background-color: white;}#sk-container-id-2 label.sk-toggleable__label {cursor: pointer;display: block;width: 100%;margin-bottom: 0;padding: 0.3em;box-sizing: border-box;text-align: center;}#sk-container-id-2 label.sk-toggleable__label-arrow:before {content: \"▸\";float: left;margin-right: 0.25em;color: #696969;}#sk-container-id-2 label.sk-toggleable__label-arrow:hover:before {color: black;}#sk-container-id-2 div.sk-estimator:hover label.sk-toggleable__label-arrow:before {color: black;}#sk-container-id-2 div.sk-toggleable__content {max-height: 0;max-width: 0;overflow: hidden;text-align: left;background-color: #f0f8ff;}#sk-container-id-2 div.sk-toggleable__content pre {margin: 0.2em;color: black;border-radius: 0.25em;background-color: #f0f8ff;}#sk-container-id-2 input.sk-toggleable__control:checked~div.sk-toggleable__content {max-height: 200px;max-width: 100%;overflow: auto;}#sk-container-id-2 input.sk-toggleable__control:checked~label.sk-toggleable__label-arrow:before {content: \"▾\";}#sk-container-id-2 div.sk-estimator input.sk-toggleable__control:checked~label.sk-toggleable__label {background-color: #d4ebff;}#sk-container-id-2 div.sk-label input.sk-toggleable__control:checked~label.sk-toggleable__label {background-color: #d4ebff;}#sk-container-id-2 input.sk-hidden--visually {border: 0;clip: rect(1px 1px 1px 1px);clip: rect(1px, 1px, 1px, 1px);height: 1px;margin: -1px;overflow: hidden;padding: 0;position: absolute;width: 1px;}#sk-container-id-2 div.sk-estimator {font-family: monospace;background-color: #f0f8ff;border: 1px dotted black;border-radius: 0.25em;box-sizing: border-box;margin-bottom: 0.5em;}#sk-container-id-2 div.sk-estimator:hover {background-color: #d4ebff;}#sk-container-id-2 div.sk-parallel-item::after {content: \"\";width: 100%;border-bottom: 1px solid gray;flex-grow: 1;}#sk-container-id-2 div.sk-label:hover label.sk-toggleable__label {background-color: #d4ebff;}#sk-container-id-2 div.sk-serial::before {content: \"\";position: absolute;border-left: 1px solid gray;box-sizing: border-box;top: 0;bottom: 0;left: 50%;z-index: 0;}#sk-container-id-2 div.sk-serial {display: flex;flex-direction: column;align-items: center;background-color: white;padding-right: 0.2em;padding-left: 0.2em;position: relative;}#sk-container-id-2 div.sk-item {position: relative;z-index: 1;}#sk-container-id-2 div.sk-parallel {display: flex;align-items: stretch;justify-content: center;background-color: white;position: relative;}#sk-container-id-2 div.sk-item::before, #sk-container-id-2 div.sk-parallel-item::before {content: \"\";position: absolute;border-left: 1px solid gray;box-sizing: border-box;top: 0;bottom: 0;left: 50%;z-index: -1;}#sk-container-id-2 div.sk-parallel-item {display: flex;flex-direction: column;z-index: 1;position: relative;background-color: white;}#sk-container-id-2 div.sk-parallel-item:first-child::after {align-self: flex-end;width: 50%;}#sk-container-id-2 div.sk-parallel-item:last-child::after {align-self: flex-start;width: 50%;}#sk-container-id-2 div.sk-parallel-item:only-child::after {width: 0;}#sk-container-id-2 div.sk-dashed-wrapped {border: 1px dashed gray;margin: 0 0.4em 0.5em 0.4em;box-sizing: border-box;padding-bottom: 0.4em;background-color: white;}#sk-container-id-2 div.sk-label label {font-family: monospace;font-weight: bold;display: inline-block;line-height: 1.2em;}#sk-container-id-2 div.sk-label-container {text-align: center;}#sk-container-id-2 div.sk-container {/* jupyter's `normalize.less` sets `[hidden] { display: none; }` but bootstrap.min.css set `[hidden] { display: none !important; }` so we also need the `!important` here to be able to override the default hidden behavior on the sphinx rendered scikit-learn.org. See: https://github.com/scikit-learn/scikit-learn/issues/21755 */display: inline-block !important;position: relative;}#sk-container-id-2 div.sk-text-repr-fallback {display: none;}</style><div id=\"sk-container-id-2\" class=\"sk-top-container\"><div class=\"sk-text-repr-fallback\"><pre>RandomForestClassifier(random_state=1337)</pre><b>In a Jupyter environment, please rerun this cell to show the HTML representation or trust the notebook. <br />On GitHub, the HTML representation is unable to render, please try loading this page with nbviewer.org.</b></div><div class=\"sk-container\" hidden><div class=\"sk-item\"><div class=\"sk-estimator sk-toggleable\"><input class=\"sk-toggleable__control sk-hidden--visually\" id=\"sk-estimator-id-2\" type=\"checkbox\" checked><label for=\"sk-estimator-id-2\" class=\"sk-toggleable__label sk-toggleable__label-arrow\">RandomForestClassifier</label><div class=\"sk-toggleable__content\"><pre>RandomForestClassifier(random_state=1337)</pre></div></div></div></div></div>"
     },
     "execution_count": 12,
     "metadata": {},
     "output_type": "execute_result"
    }
   ],
   "source": [
    "model = RandomForestClassifier(random_state=1337,n_estimators = 100)\n",
    "model.fit(X, Y)"
   ],
   "metadata": {
    "collapsed": false,
    "ExecuteTime": {
     "start_time": "2023-04-18T18:59:06.768919Z",
     "end_time": "2023-04-18T18:59:17.542077Z"
    }
   }
  },
  {
   "cell_type": "code",
   "execution_count": 13,
   "outputs": [],
   "source": [
    "X_test = pd.get_dummies(test[Features])\n",
    "X_test.count()\n",
    "Features=X.columns"
   ],
   "metadata": {
    "collapsed": false,
    "ExecuteTime": {
     "start_time": "2023-04-18T18:59:17.547064Z",
     "end_time": "2023-04-18T18:59:17.568563Z"
    }
   }
  },
  {
   "cell_type": "code",
   "execution_count": 14,
   "outputs": [
    {
     "data": {
      "text/plain": "0.8358919113026304"
     },
     "execution_count": 14,
     "metadata": {},
     "output_type": "execute_result"
    }
   ],
   "source": [
    "predictions = model.predict(X_test)\n",
    "accuracy_score(test[\"smoking\"], predictions)"
   ],
   "metadata": {
    "collapsed": false,
    "ExecuteTime": {
     "start_time": "2023-04-18T18:59:17.564576Z",
     "end_time": "2023-04-18T18:59:17.914263Z"
    }
   }
  },
  {
   "cell_type": "code",
   "execution_count": 15,
   "outputs": [
    {
     "name": "stdout",
     "output_type": "stream",
     "text": [
      "              precision    recall  f1-score   support\n",
      "\n",
      "           0       0.88      0.86      0.87      7060\n",
      "           1       0.77      0.79      0.78      4079\n",
      "\n",
      "    accuracy                           0.84     11139\n",
      "   macro avg       0.82      0.83      0.82     11139\n",
      "weighted avg       0.84      0.84      0.84     11139\n",
      "\n"
     ]
    }
   ],
   "source": [
    "report = classification_report(test[\"smoking\"], predictions)\n",
    "print(report)"
   ],
   "metadata": {
    "collapsed": false,
    "ExecuteTime": {
     "start_time": "2023-04-18T18:59:17.916258Z",
     "end_time": "2023-04-18T18:59:17.970866Z"
    }
   }
  },
  {
   "cell_type": "code",
   "execution_count": 16,
   "outputs": [
    {
     "name": "stdout",
     "output_type": "stream",
     "text": [
      "[[6069  991]\n",
      " [ 837 3242]]\n"
     ]
    }
   ],
   "source": [
    "confmatrix=confusion_matrix(test[\"smoking\"], predictions)\n",
    "print(confmatrix)"
   ],
   "metadata": {
    "collapsed": false,
    "ExecuteTime": {
     "start_time": "2023-04-18T18:59:17.947746Z",
     "end_time": "2023-04-18T18:59:17.971881Z"
    }
   }
  },
  {
   "cell_type": "code",
   "execution_count": 17,
   "outputs": [
    {
     "name": "stdout",
     "output_type": "stream",
     "text": [
      "              precision    recall  f1-score   support\n",
      "\n",
      "           0       0.83      0.88      0.85      7060\n",
      "           1       0.76      0.69      0.72      4079\n",
      "\n",
      "    accuracy                           0.81     11139\n",
      "   macro avg       0.80      0.78      0.79     11139\n",
      "weighted avg       0.80      0.81      0.80     11139\n",
      "\n",
      "[[6189  871]\n",
      " [1281 2798]]\n"
     ]
    }
   ],
   "source": [
    "model = RandomForestClassifier(random_state=1337, n_estimators=10)\n",
    "model.fit(X, Y)\n",
    "X_test = pd.get_dummies(test[Features])\n",
    "X_test.count()\n",
    "Features = X.columns\n",
    "predictions = model.predict(X_test)\n",
    "accuracy_score(test[\"smoking\"], predictions)\n",
    "report = classification_report(test[\"smoking\"], predictions)\n",
    "confmatrix=confusion_matrix(test[\"smoking\"], predictions)\n",
    "print(report)\n",
    "print(confmatrix)"
   ],
   "metadata": {
    "collapsed": false,
    "ExecuteTime": {
     "start_time": "2023-04-18T18:59:17.964908Z",
     "end_time": "2023-04-18T18:59:19.106472Z"
    }
   }
  },
  {
   "cell_type": "code",
   "execution_count": 17,
   "outputs": [],
   "source": [],
   "metadata": {
    "collapsed": false,
    "ExecuteTime": {
     "start_time": "2023-04-18T18:59:19.108468Z",
     "end_time": "2023-04-18T18:59:19.152006Z"
    }
   }
  }
 ],
 "metadata": {
  "kernelspec": {
   "display_name": "Python 3",
   "language": "python",
   "name": "python3"
  },
  "language_info": {
   "codemirror_mode": {
    "name": "ipython",
    "version": 2
   },
   "file_extension": ".py",
   "mimetype": "text/x-python",
   "name": "python",
   "nbconvert_exporter": "python",
   "pygments_lexer": "ipython2",
   "version": "2.7.6"
  }
 },
 "nbformat": 4,
 "nbformat_minor": 0
}
