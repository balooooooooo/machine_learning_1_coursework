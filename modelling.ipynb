{
 "cells": [
  {
   "cell_type": "code",
   "execution_count": null,
   "outputs": [],
   "source": [
    "import pandas as pd\n",
    "import numpy as np\n",
    "from sklearn.ensemble import RandomForestClassifier\n",
    "from sklearn.metrics import accuracy_score\n",
    "from sklearn.metrics import classification_report\n",
    "from sklearn.metrics import confusion_matrix\n",
    "from sklearn.metrics import roc_curve\n",
    "from sklearn.metrics import RocCurveDisplay\n",
    "from sklearn.tree import DecisionTreeClassifier\n",
    "from sklearn.tree import plot_tree\n",
    "import matplotlib\n",
    "\n",
    "train = pd.read_csv(\"random_tree_data/train_data.csv\")\n",
    "test = pd.read_csv(\"random_tree_data/test_data.csv\")"
   ],
   "metadata": {
    "collapsed": false
   }
  },
  {
   "cell_type": "markdown",
   "source": [
    "### Defining used columns and target classes"
   ],
   "metadata": {
    "collapsed": false
   }
  },
  {
   "cell_type": "code",
   "execution_count": null,
   "outputs": [],
   "source": [
    "features = ['gender', 'age', 'height(cm)', 'weight(kg)', 'waist(cm)',\n",
    "            'eyesight(left)', 'eyesight(right)', 'hearing(left)', 'hearing(right)',\n",
    "            'systolic', 'relaxation', 'fasting_blood_sugar', 'cholesterol',\n",
    "            'triglyceride', 'hdl', 'ldl', 'hemoglobin', 'urine_protein',\n",
    "            'serum_creatinine', 'ast', 'alt', 'gtp', 'dental_caries', 'tartar',\n",
    "            'bmi', 'healthy_weight', 'eyesight_total', 'vision', 'hearing_impairment']\n",
    "classNames=[\"not smoking\",\"smoking\"]\n",
    "Y_train = train[\"smoking\"]\n",
    "X_train = train[features]\n",
    "X_train"
   ],
   "metadata": {
    "collapsed": false
   }
  },
  {
   "cell_type": "markdown",
   "source": [
    "### Fitting our split data into the model\n",
    "**We use random_state=1337 to have reproducible results**"
   ],
   "metadata": {
    "collapsed": false
   }
  },
  {
   "cell_type": "code",
   "execution_count": null,
   "outputs": [],
   "source": [
    "model = RandomForestClassifier(random_state=1337,n_estimators = 100)\n",
    "model.fit(X_train, Y_train)"
   ],
   "metadata": {
    "collapsed": false
   }
  },
  {
   "cell_type": "markdown",
   "source": [
    "### Applying model on our test data"
   ],
   "metadata": {
    "collapsed": false
   }
  },
  {
   "cell_type": "code",
   "execution_count": null,
   "outputs": [],
   "source": [
    "X_test = pd.get_dummies(test[features])\n",
    "X_test.count()\n",
    "features=X_train.columns"
   ],
   "metadata": {
    "collapsed": false
   }
  },
  {
   "cell_type": "code",
   "execution_count": null,
   "outputs": [],
   "source": [
    "predictions = model.predict(X_test)\n",
    "accuracy_score(test[\"smoking\"], predictions)"
   ],
   "metadata": {
    "collapsed": false
   }
  },
  {
   "cell_type": "code",
   "execution_count": null,
   "outputs": [],
   "source": [
    "report = classification_report(test[\"smoking\"], predictions)\n",
    "print(report)"
   ],
   "metadata": {
    "collapsed": false
   }
  },
  {
   "cell_type": "code",
   "execution_count": null,
   "outputs": [],
   "source": [
    "confmatrix=confusion_matrix(test[\"smoking\"], predictions)\n",
    "print(confmatrix)"
   ],
   "metadata": {
    "collapsed": false
   }
  },
  {
   "cell_type": "code",
   "execution_count": null,
   "outputs": [],
   "source": [
    "model = RandomForestClassifier(random_state=1337, n_estimators=10)\n",
    "model.fit(X_train, Y_train)\n",
    "X_test = pd.get_dummies(test[features])\n",
    "X_test.count()\n",
    "features = X_train.columns\n",
    "predictions = model.predict(X_test)\n",
    "accuracy_score(test[\"smoking\"], predictions)\n",
    "report = classification_report(test[\"smoking\"], predictions)\n",
    "confmatrix=confusion_matrix(test[\"smoking\"], predictions)\n",
    "print(report)\n",
    "print(confmatrix)"
   ],
   "metadata": {
    "collapsed": false
   }
  },
  {
   "cell_type": "code",
   "execution_count": null,
   "outputs": [],
   "source": [
    "decision_tree = DecisionTreeClassifier(max_depth = 3)\n",
    "treemodel = decision_tree.fit(X_train, Y_train)"
   ],
   "metadata": {
    "collapsed": false
   }
  },
  {
   "cell_type": "code",
   "execution_count": null,
   "outputs": [],
   "source": [
    "predictions_tree = treemodel.predict(X_test)"
   ],
   "metadata": {
    "collapsed": false
   }
  },
  {
   "cell_type": "code",
   "execution_count": null,
   "outputs": [],
   "source": [
    "accuracy_score(test[\"smoking\"], predictions_tree)"
   ],
   "metadata": {
    "collapsed": false
   }
  },
  {
   "cell_type": "code",
   "execution_count": null,
   "outputs": [],
   "source": [
    "matplotlib.pyplot.figure(figsize=(18,18))\n",
    "plot_tree(treemodel,feature_names = features,\n",
    "          class_names=classNames,\n",
    "          filled = True,fontsize=10)\n",
    "matplotlib.pyplot.savefig('decisionTree.png')"
   ],
   "metadata": {
    "collapsed": false
   }
  },
  {
   "cell_type": "code",
   "execution_count": null,
   "outputs": [],
   "source": [
    "decision_tree = DecisionTreeClassifier()\n",
    "treemodel = decision_tree.fit(X_train, Y_train)\n",
    "predictions_tree = treemodel.predict(X_test)\n",
    "accuracy_score(test[\"smoking\"], predictions_tree)"
   ],
   "metadata": {
    "collapsed": false
   }
  },
  {
   "cell_type": "code",
   "execution_count": null,
   "outputs": [],
   "source": [
    "#keep probabilities for the positive outcome only\n",
    "y_pred_dt_prob = treemodel.predict_proba(X_test.values)[:,1]\n",
    "fpr, tpr, _thresholds  = roc_curve(y_test, y_pred_dt_prob, pos_label=treemodel.classes_[1])\n",
    "roc_display = RocCurveDisplay(fpr=fpr, tpr=tpr).plot()"
   ],
   "metadata": {
    "collapsed": false
   }
  }
 ],
 "metadata": {
  "kernelspec": {
   "display_name": "Python 3",
   "language": "python",
   "name": "python3"
  },
  "language_info": {
   "codemirror_mode": {
    "name": "ipython",
    "version": 2
   },
   "file_extension": ".py",
   "mimetype": "text/x-python",
   "name": "python",
   "nbconvert_exporter": "python",
   "pygments_lexer": "ipython2",
   "version": "2.7.6"
  }
 },
 "nbformat": 4,
 "nbformat_minor": 0
}
